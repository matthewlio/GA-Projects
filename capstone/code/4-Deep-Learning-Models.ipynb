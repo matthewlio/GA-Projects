{
 "cells": [
  {
   "cell_type": "markdown",
   "id": "9a5d3da0",
   "metadata": {},
   "source": [
    "# Sentiment Analysis of Movie Reviews\n",
    "### GA DSI-SG-26 Capstone\n",
    "> By: Matthew Lio\n",
    "---"
   ]
  },
  {
   "cell_type": "markdown",
   "id": "ced2ab0c",
   "metadata": {},
   "source": [
    "Project notebook organisation:\n",
    "\n",
    "1. Data Cleaning and EDA\n",
    "2. Lexicon-based Models\n",
    "3. Binary Classification ML Models\n",
    "4. Deep Learning Models (current notebook)"
   ]
  },
  {
   "cell_type": "markdown",
   "id": "a918d3c9",
   "metadata": {},
   "source": [
    "# 4. Deep Learning Models\n",
    "---"
   ]
  },
  {
   "cell_type": "markdown",
   "id": "60e38bc3",
   "metadata": {},
   "source": [
    "### Contents:\n",
    "- [Library and Data Imports](#Library-and-Data-Imports)\n",
    "- [Recurrent Neural Network](#Recurrent-Neural-Network)\n",
    "- [Modelling Preparation](#Modelling-Preparation)\n",
    "- [Metric Functions](#Metric-Functions)\n",
    "- [Building Model](#Building-Model)\n",
    "- [Training Model and Evaluation](#Training-Model-and-Evaluation)\n",
    "- [Conclusion](#Conclusion)"
   ]
  },
  {
   "cell_type": "markdown",
   "id": "93f6bdd2",
   "metadata": {},
   "source": [
    "## Library and Data Imports"
   ]
  },
  {
   "cell_type": "code",
   "execution_count": 1,
   "id": "e5bf8704",
   "metadata": {},
   "outputs": [
    {
     "name": "stdout",
     "output_type": "stream",
     "text": [
      "Requirement already satisfied: tensorflow_addons in c:\\users\\chins\\anaconda3\\lib\\site-packages (0.16.1)\n",
      "Requirement already satisfied: typeguard>=2.7 in c:\\users\\chins\\anaconda3\\lib\\site-packages (from tensorflow_addons) (2.13.3)\n"
     ]
    }
   ],
   "source": [
    "!pip install tensorflow_addons"
   ]
  },
  {
   "cell_type": "code",
   "execution_count": 2,
   "id": "4209e23b",
   "metadata": {},
   "outputs": [],
   "source": [
    "import pandas as pd\n",
    "import numpy as np\n",
    "import matplotlib.pyplot as plt\n",
    "import seaborn as sns\n",
    "import scipy.stats as stats\n",
    "import regex as re\n",
    "\n",
    "import math\n",
    "import matplotlib.ticker as mticker\n",
    "\n",
    "import nltk\n",
    "from nltk.tokenize import sent_tokenize, word_tokenize, RegexpTokenizer\n",
    "from nltk.stem import WordNetLemmatizer\n",
    "from nltk.corpus import stopwords\n",
    "\n",
    "import tensorflow as tf\n",
    "import tensorflow_addons as tfa\n",
    "from tensorflow import keras\n",
    "from tensorflow.keras import layers\n",
    "from keras.preprocessing.text import Tokenizer\n",
    "from keras.preprocessing.sequence import pad_sequences\n",
    "import keras.backend as K\n",
    "from keras.models import Sequential\n",
    "from keras.layers import Dense, Embedding, LSTM, GRU\n",
    "\n",
    "from sklearn.feature_extraction.text import CountVectorizer, TfidfVectorizer, TfidfTransformer\n",
    "from sklearn.metrics.pairwise import cosine_similarity\n",
    "from sklearn.model_selection import train_test_split, cross_val_score, GridSearchCV\n",
    "from sklearn.neighbors import KernelDensity\n",
    "from sklearn.preprocessing import StandardScaler\n",
    "from sklearn.pipeline import Pipeline\n",
    "from sklearn.ensemble import RandomForestClassifier, ExtraTreesClassifier, GradientBoostingClassifier, AdaBoostClassifier\n",
    "from sklearn.metrics import (confusion_matrix, plot_confusion_matrix, classification_report, plot_roc_curve, roc_auc_score, \n",
    "accuracy_score, precision_score, recall_score, f1_score, auc, precision_recall_curve, average_precision_score)\n",
    "from sklearn.linear_model import LogisticRegression\n",
    "from sklearn.neighbors import KNeighborsClassifier\n",
    "from sklearn.naive_bayes import MultinomialNB\n",
    "from sklearn.tree import DecisionTreeClassifier \n",
    "from sklearn.svm import SVC\n",
    "\n",
    "import xgboost as xgb\n",
    "from xgboost import XGBClassifier\n",
    "from xgboost import plot_importance \n",
    "\n",
    "from imblearn.over_sampling import SMOTE\n",
    "from imblearn.pipeline import Pipeline as Pipeline1\n",
    "\n",
    "import warnings\n",
    "import time\n",
    "warnings.filterwarnings(\"ignore\")\n",
    "pd.set_option('display.max_columns', None)\n",
    "pd.options.display.max_colwidth = 400"
   ]
  },
  {
   "cell_type": "code",
   "execution_count": 3,
   "id": "f1da410f",
   "metadata": {},
   "outputs": [],
   "source": [
    "# import cleaned data\n",
    "train = pd.read_csv('../data/train_cleaned.csv', index_col = 0)"
   ]
  },
  {
   "cell_type": "code",
   "execution_count": 4,
   "id": "057561ed",
   "metadata": {},
   "outputs": [
    {
     "data": {
      "text/html": [
       "<div>\n",
       "<style scoped>\n",
       "    .dataframe tbody tr th:only-of-type {\n",
       "        vertical-align: middle;\n",
       "    }\n",
       "\n",
       "    .dataframe tbody tr th {\n",
       "        vertical-align: top;\n",
       "    }\n",
       "\n",
       "    .dataframe thead th {\n",
       "        text-align: right;\n",
       "    }\n",
       "</style>\n",
       "<table border=\"1\" class=\"dataframe\">\n",
       "  <thead>\n",
       "    <tr style=\"text-align: right;\">\n",
       "      <th></th>\n",
       "      <th>text</th>\n",
       "      <th>sentiment</th>\n",
       "      <th>rate</th>\n",
       "    </tr>\n",
       "  </thead>\n",
       "  <tbody>\n",
       "    <tr>\n",
       "      <th>0</th>\n",
       "      <td>zero day lead you to think even re think why two boy young men would do what they did commit mutual suicide via slaughtering their classmates. it capture what must be beyond a bizarre mode of being for two human who have decided to withdraw from common civility in order to define their own mutual world via coupled destruction. it is not a perfect movie but given what money time the filmmaker a...</td>\n",
       "      <td>1</td>\n",
       "      <td>10</td>\n",
       "    </tr>\n",
       "    <tr>\n",
       "      <th>1</th>\n",
       "      <td>word can't describe how bad this movie is. i can't explain it by writing only. you have too see it for yourself to get at grip of how horrible a movie really can be. not that i recommend you to do that. there are so many clich s mistake and all other negative thing you can imagine here that will just make you cry. to start with the technical first there are a lot of mistake regarding the airpl...</td>\n",
       "      <td>0</td>\n",
       "      <td>1</td>\n",
       "    </tr>\n",
       "    <tr>\n",
       "      <th>2</th>\n",
       "      <td>everyone play their part pretty well in this little nice movie . belushi get the chance to live part of his life differently but end up realizing that what he had going to be just a good or maybe even better. the movie show u that we ought to take advantage of the opportunity we have not the one we do not or cannot have. if u can get this movie on video for around it d be an investment</td>\n",
       "      <td>1</td>\n",
       "      <td>10</td>\n",
       "    </tr>\n",
       "    <tr>\n",
       "      <th>3</th>\n",
       "      <td>there are a lot of highly talented filmmaker actor in germany now. none of them are associated with this movie . why in the world do producer actually invest money in something like this this you could have made good film with the budget of this garbage it's not entertaining to have seven grown men running around a dwarf pretending to be funny. what is funny though is that the film's producer ...</td>\n",
       "      <td>0</td>\n",
       "      <td>1</td>\n",
       "    </tr>\n",
       "    <tr>\n",
       "      <th>4</th>\n",
       "      <td>i've just had the evidence that confirmed my suspicions. a bunch of kid to put on the dvd of titanic on a fantastic state of the art mega screen home entertainment type deal. only two of them had actually seen it before. but they all had seen the moment of kate leo and celine dion so many time that most of them felt they had seen the whole movie. shortly after the epic started they started to ...</td>\n",
       "      <td>0</td>\n",
       "      <td>2</td>\n",
       "    </tr>\n",
       "    <tr>\n",
       "      <th>...</th>\n",
       "      <td>...</td>\n",
       "      <td>...</td>\n",
       "      <td>...</td>\n",
       "    </tr>\n",
       "    <tr>\n",
       "      <th>24899</th>\n",
       "      <td>footlight parade released viewed . the ice cream cone is invented in new york. kevin after a long and busy break we hit another busby berkeley musical from warner bros. this time it's the ultra fast paced footlight parade starring james cagney a juggernaut stage producer chester kent. i am certain that cagney channeling berkeley with his performance of the irrepressible kent who to come up wit...</td>\n",
       "      <td>1</td>\n",
       "      <td>8</td>\n",
       "    </tr>\n",
       "    <tr>\n",
       "      <th>24900</th>\n",
       "      <td>deeply humorous yet honest comedy about a bunch of grownup bill paxton julie warner kevin pollak elizabeth perkins vincent spano matt craven and diane lane who are invited back to spend a week to tomawka a camp in ontario canada by their former consuelor alan arkin . writer director mike binder drew upon his experience at the same camp a the main source of creating a gentle and understanding y...</td>\n",
       "      <td>1</td>\n",
       "      <td>9</td>\n",
       "    </tr>\n",
       "    <tr>\n",
       "      <th>24901</th>\n",
       "      <td>st watched out of dir sydney pollack dvd version i watched titled day of the condor so so cia drama full of laid back performance making for a very laid back movie. the premise of the story revolves around out of member of a cia research group being killed with robert redford's character codename condor being the one that left. who killed them and why that's what redford try to find out while ...</td>\n",
       "      <td>0</td>\n",
       "      <td>4</td>\n",
       "    </tr>\n",
       "    <tr>\n",
       "      <th>24902</th>\n",
       "      <td>i watch lot of scary movie or at least they try to be and this to be the worst if not nd worst movie i have ever had to make myself try to sit through. i never knew the depth of masacism until i rented this piece of moldy cheese covered in a used latex contraceptive. i am a fan of julian sans but this is worse than i would hope for him. on the other hand the story promising and i intrigued...f...</td>\n",
       "      <td>0</td>\n",
       "      <td>2</td>\n",
       "    </tr>\n",
       "    <tr>\n",
       "      <th>24903</th>\n",
       "      <td>absolutely the worst film yet by burton who seems to be getting worse with each film he directs. a miserable script loaded with cliche is only the first of many objectionable aspect to this film. this is the kind of movie where every time something happens you'll be sure to hear someone shout out he's lost his gun or whatever it is to let everybody know. carter is really awful and so is wahlbe...</td>\n",
       "      <td>0</td>\n",
       "      <td>2</td>\n",
       "    </tr>\n",
       "  </tbody>\n",
       "</table>\n",
       "<p>24904 rows × 3 columns</p>\n",
       "</div>"
      ],
      "text/plain": [
       "                                                                                                                                                                                                                                                                                                                                                                                                                  text  \\\n",
       "0      zero day lead you to think even re think why two boy young men would do what they did commit mutual suicide via slaughtering their classmates. it capture what must be beyond a bizarre mode of being for two human who have decided to withdraw from common civility in order to define their own mutual world via coupled destruction. it is not a perfect movie but given what money time the filmmaker a...   \n",
       "1      word can't describe how bad this movie is. i can't explain it by writing only. you have too see it for yourself to get at grip of how horrible a movie really can be. not that i recommend you to do that. there are so many clich s mistake and all other negative thing you can imagine here that will just make you cry. to start with the technical first there are a lot of mistake regarding the airpl...   \n",
       "2                 everyone play their part pretty well in this little nice movie . belushi get the chance to live part of his life differently but end up realizing that what he had going to be just a good or maybe even better. the movie show u that we ought to take advantage of the opportunity we have not the one we do not or cannot have. if u can get this movie on video for around it d be an investment   \n",
       "3      there are a lot of highly talented filmmaker actor in germany now. none of them are associated with this movie . why in the world do producer actually invest money in something like this this you could have made good film with the budget of this garbage it's not entertaining to have seven grown men running around a dwarf pretending to be funny. what is funny though is that the film's producer ...   \n",
       "4      i've just had the evidence that confirmed my suspicions. a bunch of kid to put on the dvd of titanic on a fantastic state of the art mega screen home entertainment type deal. only two of them had actually seen it before. but they all had seen the moment of kate leo and celine dion so many time that most of them felt they had seen the whole movie. shortly after the epic started they started to ...   \n",
       "...                                                                                                                                                                                                                                                                                                                                                                                                                ...   \n",
       "24899  footlight parade released viewed . the ice cream cone is invented in new york. kevin after a long and busy break we hit another busby berkeley musical from warner bros. this time it's the ultra fast paced footlight parade starring james cagney a juggernaut stage producer chester kent. i am certain that cagney channeling berkeley with his performance of the irrepressible kent who to come up wit...   \n",
       "24900  deeply humorous yet honest comedy about a bunch of grownup bill paxton julie warner kevin pollak elizabeth perkins vincent spano matt craven and diane lane who are invited back to spend a week to tomawka a camp in ontario canada by their former consuelor alan arkin . writer director mike binder drew upon his experience at the same camp a the main source of creating a gentle and understanding y...   \n",
       "24901  st watched out of dir sydney pollack dvd version i watched titled day of the condor so so cia drama full of laid back performance making for a very laid back movie. the premise of the story revolves around out of member of a cia research group being killed with robert redford's character codename condor being the one that left. who killed them and why that's what redford try to find out while ...   \n",
       "24902  i watch lot of scary movie or at least they try to be and this to be the worst if not nd worst movie i have ever had to make myself try to sit through. i never knew the depth of masacism until i rented this piece of moldy cheese covered in a used latex contraceptive. i am a fan of julian sans but this is worse than i would hope for him. on the other hand the story promising and i intrigued...f...   \n",
       "24903  absolutely the worst film yet by burton who seems to be getting worse with each film he directs. a miserable script loaded with cliche is only the first of many objectionable aspect to this film. this is the kind of movie where every time something happens you'll be sure to hear someone shout out he's lost his gun or whatever it is to let everybody know. carter is really awful and so is wahlbe...   \n",
       "\n",
       "       sentiment  rate  \n",
       "0              1    10  \n",
       "1              0     1  \n",
       "2              1    10  \n",
       "3              0     1  \n",
       "4              0     2  \n",
       "...          ...   ...  \n",
       "24899          1     8  \n",
       "24900          1     9  \n",
       "24901          0     4  \n",
       "24902          0     2  \n",
       "24903          0     2  \n",
       "\n",
       "[24904 rows x 3 columns]"
      ]
     },
     "execution_count": 4,
     "metadata": {},
     "output_type": "execute_result"
    }
   ],
   "source": [
    "train"
   ]
  },
  {
   "cell_type": "markdown",
   "id": "68c0f816",
   "metadata": {},
   "source": [
    "## Recurrent Neural Network"
   ]
  },
  {
   "cell_type": "markdown",
   "id": "637a20a3",
   "metadata": {},
   "source": [
    "This notebook focuses on deep learning models. The first deep learning model we want to focus on is Recurrent Neural Network (RNN). RNN is used on sequential data, and texts are considered sequential data. It means that the points in the dataset, in this case our individual words, are dependant on other points in the dataset. Each point considers the current input as well as the previous received inputs.\n",
    "\n",
    "A problem with RNN is the vanishing gradient, which occurs during backward propagation. To solve the vanishing gradient problem, we can consider 2 types of RNN, the Long-short Term Memory (LSTM) or the Gated Recurrent Units (GRU). LSTM are mainly used for larger datasets whereas GRU for smaller ones."
   ]
  },
  {
   "cell_type": "markdown",
   "id": "649cf96b",
   "metadata": {},
   "source": [
    "## Modelling Preparation"
   ]
  },
  {
   "cell_type": "markdown",
   "id": "341adca5",
   "metadata": {},
   "source": [
    "### Train-test split"
   ]
  },
  {
   "cell_type": "code",
   "execution_count": 5,
   "id": "69359ddf",
   "metadata": {},
   "outputs": [],
   "source": [
    "# Doing a 80-20 split\n",
    "X_train = train.loc[:19923, 'text'].values\n",
    "y_train = train.loc[:19923, 'sentiment'].values\n",
    "X_val = train.loc[19923:, 'text'].values\n",
    "y_val = train.loc[19923:, 'sentiment'].values"
   ]
  },
  {
   "cell_type": "code",
   "execution_count": 6,
   "id": "b8c9aec1",
   "metadata": {},
   "outputs": [],
   "source": [
    "# X = train['text']\n",
    "# y = train['sentiment']"
   ]
  },
  {
   "cell_type": "code",
   "execution_count": 7,
   "id": "99f14ce9",
   "metadata": {},
   "outputs": [],
   "source": [
    "# # Split the data into the training and testing sets.\n",
    "# X_train, X_test, y_train, y_test = train_test_split(X, y, random_state = 42, stratify = y)"
   ]
  },
  {
   "cell_type": "markdown",
   "id": "c3d2117b",
   "metadata": {},
   "source": [
    "### Tokenizer"
   ]
  },
  {
   "cell_type": "code",
   "execution_count": 8,
   "id": "c594eaab",
   "metadata": {},
   "outputs": [],
   "source": [
    "# Initialize and fit the tokenizer\n",
    "tokenizer = Tokenizer()\n",
    "\n",
    "all_reviews = train['text'].values\n",
    "\n",
    "# Train the tokenizer and use the tokenizer to convert sentences to sequences of numbers\n",
    "# where each number represents the index of the word stored in the tokenizer\n",
    "tokenizer.fit_on_texts(all_reviews)"
   ]
  },
  {
   "cell_type": "code",
   "execution_count": 9,
   "id": "0a6ad925",
   "metadata": {},
   "outputs": [
    {
     "data": {
      "text/plain": [
       "2447"
      ]
     },
     "execution_count": 9,
     "metadata": {},
     "output_type": "execute_result"
    }
   ],
   "source": [
    "# pad sequences\n",
    "max_length = max([len(s.split()) for s in all_reviews])\n",
    "max_length"
   ]
  },
  {
   "cell_type": "markdown",
   "id": "9deab23d",
   "metadata": {},
   "source": [
    "### Vocabulary Size"
   ]
  },
  {
   "cell_type": "code",
   "execution_count": 10,
   "id": "60b44a7e",
   "metadata": {},
   "outputs": [],
   "source": [
    "# define vocabulary size\n",
    "vocab_size = len(tokenizer.word_index) + 1\n"
   ]
  },
  {
   "cell_type": "markdown",
   "id": "c68f2f5b",
   "metadata": {},
   "source": [
    "### Pad Sequences"
   ]
  },
  {
   "cell_type": "code",
   "execution_count": 11,
   "id": "8ae47486",
   "metadata": {},
   "outputs": [],
   "source": [
    "# Use that tokenizer to transform (convert) the text message strings in training and test data\n",
    "# into a list of integers where each integer represents the index of that word\n",
    "X_train_seq = tokenizer.texts_to_sequences(X_train)\n",
    "X_val_seq = tokenizer.texts_to_sequences(X_val)"
   ]
  },
  {
   "cell_type": "code",
   "execution_count": 12,
   "id": "978d1a48",
   "metadata": {},
   "outputs": [
    {
     "data": {
      "text/plain": [
       "[1411,\n",
       " 182,\n",
       " 329,\n",
       " 19,\n",
       " 5,\n",
       " 97,\n",
       " 55,\n",
       " 726,\n",
       " 97,\n",
       " 135,\n",
       " 104,\n",
       " 325,\n",
       " 185,\n",
       " 354,\n",
       " 58,\n",
       " 79,\n",
       " 44,\n",
       " 30,\n",
       " 120,\n",
       " 3409,\n",
       " 5507,\n",
       " 1626,\n",
       " 2745,\n",
       " 14727,\n",
       " 64,\n",
       " 20051,\n",
       " 8,\n",
       " 1136,\n",
       " 44,\n",
       " 214,\n",
       " 25,\n",
       " 708,\n",
       " 2,\n",
       " 1142,\n",
       " 4805,\n",
       " 4,\n",
       " 107,\n",
       " 14,\n",
       " 104,\n",
       " 350,\n",
       " 32,\n",
       " 22,\n",
       " 846,\n",
       " 5,\n",
       " 25363,\n",
       " 34,\n",
       " 1122,\n",
       " 23180,\n",
       " 7,\n",
       " 587,\n",
       " 5,\n",
       " 6181,\n",
       " 64,\n",
       " 205,\n",
       " 5507,\n",
       " 175,\n",
       " 2745,\n",
       " 5414,\n",
       " 3099,\n",
       " 8,\n",
       " 6,\n",
       " 18,\n",
       " 2,\n",
       " 404,\n",
       " 12,\n",
       " 16,\n",
       " 353,\n",
       " 44,\n",
       " 281,\n",
       " 45,\n",
       " 1,\n",
       " 733,\n",
       " 3,\n",
       " 119,\n",
       " 65,\n",
       " 8,\n",
       " 6,\n",
       " 2,\n",
       " 1681,\n",
       " 1858,\n",
       " 7,\n",
       " 1034,\n",
       " 4,\n",
       " 3866,\n",
       " 1,\n",
       " 3127,\n",
       " 3,\n",
       " 189,\n",
       " 4,\n",
       " 1,\n",
       " 104,\n",
       " 185,\n",
       " 1626,\n",
       " 2256,\n",
       " 8,\n",
       " 6,\n",
       " 124,\n",
       " 71,\n",
       " 47875,\n",
       " 7,\n",
       " 1034,\n",
       " 4,\n",
       " 107,\n",
       " 2,\n",
       " 13,\n",
       " 11,\n",
       " 57,\n",
       " 468,\n",
       " 271,\n",
       " 47876,\n",
       " 2268,\n",
       " 8,\n",
       " 6,\n",
       " 2,\n",
       " 228,\n",
       " 228,\n",
       " 124,\n",
       " 13,\n",
       " 71,\n",
       " 217,\n",
       " 231,\n",
       " 19,\n",
       " 20,\n",
       " 1305,\n",
       " 5,\n",
       " 61,\n",
       " 2912,\n",
       " 16,\n",
       " 1177,\n",
       " 15,\n",
       " 2,\n",
       " 393,\n",
       " 4049]"
      ]
     },
     "execution_count": 12,
     "metadata": {},
     "output_type": "execute_result"
    }
   ],
   "source": [
    "# Q: What do these sequences look like?\n",
    "# Ans: sequence of numbers representing the words in each text msg\n",
    "# Ans: specifically this is the integer representation of the first text msg in data set\n",
    "# Ans: in other words, each integer is representing a word in the first text msg\n",
    "X_train_seq[0]"
   ]
  },
  {
   "cell_type": "code",
   "execution_count": 13,
   "id": "5e61f78f",
   "metadata": {},
   "outputs": [],
   "source": [
    "# we need to standardize the sequence length since ML models expect the same number of features\n",
    "# for every training example that it sees\n",
    "# in our case, RNN model requires each sentence or each list of integers to be the same length\n",
    "# Pad the sequences so each sequence (vector) is the same length\n",
    "# Sequence length is one of the parameters that can be optimised via hyperparameter tuning\n",
    "\n",
    "X_train_pad = pad_sequences(X_train_seq, maxlen = max_length, padding = 'post')\n",
    "X_val_pad = pad_sequences(X_val_seq, maxlen = max_length, padding = 'post')"
   ]
  },
  {
   "cell_type": "code",
   "execution_count": 14,
   "id": "0ff17a7b",
   "metadata": {},
   "outputs": [
    {
     "data": {
      "text/plain": [
       "array([1411,  182,  329, ...,    0,    0,    0])"
      ]
     },
     "execution_count": 14,
     "metadata": {},
     "output_type": "execute_result"
    }
   ],
   "source": [
    "# Display padded sequence for first text message which has included zeros to ensure sequence length = 50\n",
    "X_train_pad[0]"
   ]
  },
  {
   "cell_type": "markdown",
   "id": "71e0774a",
   "metadata": {},
   "source": [
    "## Metric Functions"
   ]
  },
  {
   "cell_type": "code",
   "execution_count": 15,
   "id": "30c812ec",
   "metadata": {},
   "outputs": [],
   "source": [
    "# custom function to calculate recall\n",
    "def recall(y_true, y_pred):\n",
    "    # K.round: Element-wise rounding to the closest integer\n",
    "    # K.clip: Element-wise value clipping to min and max values specified\n",
    "    # K.epsilon: When there's a division operation taking place, it's often added to denominator to prevent\n",
    "        # a divide by zero error. Epsilon is small value that makes very little difference to the value of \n",
    "        # the denominator, but ensures that it isn't equal to exactly zero.\n",
    "    true_positives = K.sum(K.round(K.clip(y_true * y_pred, 0, 1)))\n",
    "    possible_positives = K.sum(K.round(K.clip(y_true, 0, 1)))\n",
    "    recall = true_positives / (possible_positives + K.epsilon())\n",
    "    return recall"
   ]
  },
  {
   "cell_type": "code",
   "execution_count": 16,
   "id": "bfb0b000",
   "metadata": {},
   "outputs": [],
   "source": [
    "# custom function to calculate precision\n",
    "def precision(y_true, y_pred):\n",
    "    true_positives = K.sum(K.round(K.clip(y_true * y_pred, 0, 1)))\n",
    "    predicted_positives = K.sum(K.round(K.clip(y_pred, 0, 1)))\n",
    "    precision = true_positives / (predicted_positives + K.epsilon())\n",
    "    return precision"
   ]
  },
  {
   "cell_type": "code",
   "execution_count": 17,
   "id": "80cb40d5",
   "metadata": {},
   "outputs": [],
   "source": [
    "# custom function to calculate specificity\n",
    "def specificity(y_true, y_pred):\n",
    "    true_negatives = K.sum(K.round(K.clip((1 - y_true) * (1 - y_pred), 0, 1)))\n",
    "    possible_negatives = K.sum(K.round(K.clip(1 - y_true, 0, 1)))\n",
    "    return true_negatives / (possible_negatives + K.epsilon())"
   ]
  },
  {
   "cell_type": "code",
   "execution_count": 18,
   "id": "0eb473c8",
   "metadata": {},
   "outputs": [],
   "source": [
    "def average_metric(y_true, y_pred):\n",
    "    spec = specificity(y_true, y_pred)\n",
    "    sens = recall(y_true, y_pred)\n",
    "    return  0.5 * (spec + sens)"
   ]
  },
  {
   "cell_type": "markdown",
   "id": "b902e5fa",
   "metadata": {},
   "source": [
    "## Building Model"
   ]
  },
  {
   "cell_type": "code",
   "execution_count": 19,
   "id": "c48fb711",
   "metadata": {},
   "outputs": [],
   "source": [
    "embedding_dim = 100"
   ]
  },
  {
   "cell_type": "code",
   "execution_count": 25,
   "id": "b603bd42",
   "metadata": {},
   "outputs": [
    {
     "name": "stdout",
     "output_type": "stream",
     "text": [
      "Model: \"sequential_4\"\n",
      "_________________________________________________________________\n",
      " Layer (type)                Output Shape              Param #   \n",
      "=================================================================\n",
      " embedding_4 (Embedding)     (None, 2447, 100)         8169500   \n",
      "                                                                 \n",
      " gru_4 (GRU)                 (None, 64)                31872     \n",
      "                                                                 \n",
      " dense_4 (Dense)             (None, 1)                 65        \n",
      "                                                                 \n",
      "=================================================================\n",
      "Total params: 8,201,437\n",
      "Trainable params: 8,201,437\n",
      "Non-trainable params: 0\n",
      "_________________________________________________________________\n"
     ]
    }
   ],
   "source": [
    "# Create a RNN model\n",
    "model = Sequential()\n",
    "\n",
    "model.add(Embedding(vocab_size, embedding_dim, input_length = max_length))\n",
    "model.add(GRU(units=64, dropout=0.5, recurrent_dropout=0.2))\n",
    "model.add(Dense(1, activation='sigmoid'))\n",
    "\n",
    "# optimizer, learning rate\n",
    "# opt = keras.optimizers.Adam(lr=0.1)\n",
    "\n",
    "# Compile the model\n",
    "model.compile(optimizer='adam',\n",
    "              loss='binary_crossentropy', # standard option for binary target variables\n",
    "              metrics=['accuracy',\n",
    "                       specificity,\n",
    "                       tf.keras.metrics.Precision(),\n",
    "                       average_metric,\n",
    "                       recall]) # metrics to display\n",
    "\n",
    "model.summary()"
   ]
  },
  {
   "cell_type": "markdown",
   "id": "8c6d3c0f",
   "metadata": {},
   "source": [
    "## Training Model and Evaluation"
   ]
  },
  {
   "cell_type": "code",
   "execution_count": 26,
   "id": "03e7c5d0",
   "metadata": {},
   "outputs": [
    {
     "name": "stdout",
     "output_type": "stream",
     "text": [
      "Epoch 1/10\n",
      "312/312 - 2853s - loss: 0.6936 - accuracy: 0.4985 - specificity: 0.4495 - precision_1: 0.4988 - average_metric: 0.4983 - recall: 0.5472 - val_loss: 0.6932 - val_accuracy: 0.5033 - val_specificity: 0.0000e+00 - val_precision_1: 0.5033 - val_average_metric: 0.5000 - val_recall: 1.0000 - 2853s/epoch - 9s/step\n",
      "Epoch 2/10\n",
      "312/312 - 2642s - loss: 0.6935 - accuracy: 0.5022 - specificity: 0.3626 - precision_1: 0.5018 - average_metric: 0.5018 - recall: 0.6409 - val_loss: 0.6936 - val_accuracy: 0.4967 - val_specificity: 1.0000 - val_precision_1: 0.0000e+00 - val_average_metric: 0.5000 - val_recall: 0.0000e+00 - 2642s/epoch - 8s/step\n",
      "Epoch 3/10\n",
      "312/312 - 3028s - loss: 0.6933 - accuracy: 0.4949 - specificity: 0.4636 - precision_1: 0.4954 - average_metric: 0.4998 - recall: 0.5360 - val_loss: 0.6932 - val_accuracy: 0.4967 - val_specificity: 1.0000 - val_precision_1: 0.0000e+00 - val_average_metric: 0.5000 - val_recall: 0.0000e+00 - 3028s/epoch - 10s/step\n",
      "Epoch 4/10\n",
      "312/312 - 3722s - loss: 0.6932 - accuracy: 0.5048 - specificity: 0.4495 - precision_1: 0.5045 - average_metric: 0.4982 - recall: 0.5468 - val_loss: 0.6932 - val_accuracy: 0.5033 - val_specificity: 0.0000e+00 - val_precision_1: 0.5033 - val_average_metric: 0.5000 - val_recall: 1.0000 - 3722s/epoch - 12s/step\n",
      "Epoch 5/10\n",
      "312/312 - 4153s - loss: 0.6934 - accuracy: 0.4975 - specificity: 0.4276 - precision_1: 0.4980 - average_metric: 0.5026 - recall: 0.5777 - val_loss: 0.6933 - val_accuracy: 0.4967 - val_specificity: 1.0000 - val_precision_1: 0.0000e+00 - val_average_metric: 0.5000 - val_recall: 0.0000e+00 - 4153s/epoch - 13s/step\n",
      "Epoch 6/10\n",
      "312/312 - 3473s - loss: 0.6933 - accuracy: 0.5029 - specificity: 0.6159 - precision_1: 0.5040 - average_metric: 0.5030 - recall: 0.3900 - val_loss: 0.6931 - val_accuracy: 0.5033 - val_specificity: 0.0000e+00 - val_precision_1: 0.5033 - val_average_metric: 0.5000 - val_recall: 1.0000 - 3473s/epoch - 11s/step\n",
      "Epoch 7/10\n",
      "312/312 - 3117s - loss: 0.6933 - accuracy: 0.4985 - specificity: 0.4154 - precision_1: 0.4989 - average_metric: 0.5038 - recall: 0.5922 - val_loss: 0.6933 - val_accuracy: 0.4967 - val_specificity: 1.0000 - val_precision_1: 0.0000e+00 - val_average_metric: 0.5000 - val_recall: 0.0000e+00 - 3117s/epoch - 10s/step\n",
      "Epoch 8/10\n",
      "312/312 - 4174s - loss: 0.6932 - accuracy: 0.5004 - specificity: 0.5005 - precision_1: 0.5006 - average_metric: 0.4982 - recall: 0.4959 - val_loss: 0.6934 - val_accuracy: 0.4967 - val_specificity: 1.0000 - val_precision_1: 0.0000e+00 - val_average_metric: 0.5000 - val_recall: 0.0000e+00 - 4174s/epoch - 13s/step\n",
      "Epoch 9/10\n",
      "312/312 - 3467s - loss: 0.6932 - accuracy: 0.5047 - specificity: 0.4944 - precision_1: 0.5048 - average_metric: 0.5010 - recall: 0.5076 - val_loss: 0.6931 - val_accuracy: 0.5033 - val_specificity: 0.0000e+00 - val_precision_1: 0.5033 - val_average_metric: 0.5000 - val_recall: 1.0000 - 3467s/epoch - 11s/step\n",
      "Epoch 10/10\n",
      "312/312 - 3463s - loss: 0.6933 - accuracy: 0.4969 - specificity: 0.4026 - precision_1: 0.4975 - average_metric: 0.4974 - recall: 0.5922 - val_loss: 0.6932 - val_accuracy: 0.4967 - val_specificity: 1.0000 - val_precision_1: 0.0000e+00 - val_average_metric: 0.5000 - val_recall: 0.0000e+00 - 3463s/epoch - 11s/step\n"
     ]
    }
   ],
   "source": [
    "# Fit the RNN model\n",
    "history = model.fit(X_train_pad, y_train, \n",
    "                    batch_size=64, epochs=10, # batch_size = number of samples per epoch while epoch = number of loops\n",
    "                    validation_data=(X_val_pad, y_val), # apply model to unseen data i.e. test data\n",
    "                    verbose=2)"
   ]
  },
  {
   "cell_type": "code",
   "execution_count": 27,
   "id": "de04d260",
   "metadata": {
    "scrolled": false
   },
   "outputs": [
    {
     "data": {
      "image/png": "[encoded data removed]",
      "text/plain": [
       "<Figure size 432x288 with 1 Axes>"
      ]
     },
     "metadata": {
      "needs_background": "light"
     },
     "output_type": "display_data"
    },
    {
     "data": {
      "image/png": "[encoded data removed]",
      "text/plain": [
       "<Figure size 432x288 with 1 Axes>"
      ]
     },
     "metadata": {
      "needs_background": "light"
     },
     "output_type": "display_data"
    },
    {
     "data": {
      "image/png": "[encoded data removed]",
      "text/plain": [
       "<Figure size 432x288 with 1 Axes>"
      ]
     },
     "metadata": {
      "needs_background": "light"
     },
     "output_type": "display_data"
    }
   ],
   "source": [
    "# Plot the evaluation metrics by each epoch for the model to see if we are over or underfitting\n",
    "for i in ['accuracy', 'specificity', 'average_metric']:\n",
    "    acc = history.history[i]\n",
    "    val_acc = history.history['val_{}'.format(i)]\n",
    "    epochs = range(1, len(acc) + 1)\n",
    "\n",
    "    plt.figure()\n",
    "    plt.plot(epochs, acc, label='Training Accuracy')\n",
    "    plt.plot(epochs, val_acc, label='Validation Accuracy')\n",
    "    plt.title('Results for {}'.format(i))\n",
    "    plt.legend()\n",
    "    plt.show()"
   ]
  },
  {
   "cell_type": "markdown",
   "id": "858c5c13",
   "metadata": {},
   "source": [
    "## Conclusion\n",
    "\n",
    "Various attempts were made to tune our RNN model, to no avail. Even both LSTM and GRU were used. The results remain puzzling. If we had more time, we might be able to figure out how to tune our RNN model. For now, our best model would be our Logistic Regression with TF-IDF vectorizer. Please refer back to notebook 3 (Machine Learning Models) for the results and further conclusion and evaluation.\n",
    "\n",
    "Future improvements to this project, other than tuning our RNN model, would be to consider using other deep learning models as well. These include models with word2vec embeddings, and pre-trained ones, like BERT."
   ]
  }
 ],
 "metadata": {
  "kernelspec": {
   "display_name": "Python 3 (ipykernel)",
   "language": "python",
   "name": "python3"
  },
  "language_info": {
   "codemirror_mode": {
    "name": "ipython",
    "version": 3
   },
   "file_extension": ".py",
   "mimetype": "text/x-python",
   "name": "python",
   "nbconvert_exporter": "python",
   "pygments_lexer": "ipython3",
   "version": "3.9.7"
  }
 },
 "nbformat": 4,
 "nbformat_minor": 5
}
