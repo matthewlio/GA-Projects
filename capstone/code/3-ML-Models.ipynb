{
 "cells": [
  {
   "cell_type": "markdown",
   "id": "7a44cbc7",
   "metadata": {},
   "source": [
    "# Sentiment Analysis of Movie Reviews\n",
    "### GA DSI-SG-26 Capstone\n",
    "> By: Matthew Lio\n",
    "---"
   ]
  },
  {
   "cell_type": "markdown",
   "id": "7b7a8b08",
   "metadata": {},
   "source": [
    "Project notebook organisation:\n",
    "\n",
    "1. Data Cleaning and EDA\n",
    "2. Lexicon-based Models\n",
    "3. Binary Classification ML Models (current notebook)\n",
    "4. Deep Learning Models"
   ]
  },
  {
   "cell_type": "markdown",
   "id": "52c6ffa2",
   "metadata": {},
   "source": [
    "# 3. Binary Classification with ML Models\n",
    "---"
   ]
  },
  {
   "cell_type": "markdown",
   "id": "c9c9bf2e",
   "metadata": {},
   "source": [
    "### Contents:\n",
    "- [Sentiment Analysis with Machine Learning](#Sentiment-Analysis-with-Machine-Learning)\n",
    "- [Library and Data Imports](#Library-and-Data-Imports)\n",
    "- [Train-test Split](#Train-test-Split)\n",
    "- [Modeling Functions and Stopwords](#Modeling-Functions-and-Stopwords)\n",
    "- [Logistic Regression](#Logistic-Regression)\n",
    "- [Naive Bayes](#Naive-Bayes)\n",
    "- [K-Nearest Neighbors](#K-Nearest-Neighbors)\n",
    "- [AdaBoost](#AdaBoost)\n",
    "- [Gradient Boosting Classifier](#Gradient-Boosting-Classifier)\n",
    "- [XGBoost Classifier](#XGBoost-Classifier)\n",
    "- [Decision Tree Classifier](#Decision-Tree-Classifier)\n",
    "- [Extra Trees Classifier](#Extra-Trees-Classifier)\n",
    "- [Random Forest Classifier](#Random-Forest-Classifier)\n",
    "- [Model Evaluation](#Model-Evaluation)\n",
    "- [Conclusion](#Conclusion)"
   ]
  },
  {
   "cell_type": "markdown",
   "id": "e6814cd4",
   "metadata": {},
   "source": [
    "## Sentiment Analysis with Machine Learning\n",
    "\n",
    "In this notebook, we will explore using different machine learning models to solve sentiment analysis. We will train these machine learning models using different algorithms with our dataset, with the \"sentiment\" column as our sentiment polarity output (negative = 0, positive = 1).\n",
    "\n",
    "### Evaluation Metrics\n",
    "\n",
    "Evaluation of the models will be based on various evaluation metrics. More specifically, they are ROC-AUC, accuracy, and specificity. As our dataset is a balanced dataset, we will be tuning our models towards high ROC AUC.\n",
    "\n",
    "#### ROC AUC\n",
    "ROC AUC visualizes the tradeoff between true positive rate (TPR) and false positive rate (FPR). Basically, for every threshold, we calculate TPR and FPR and plot it on one chart. The higher TPR and lower FPR is for each threshold, the better it is. An overall ROC AUC score also describes the perfomance of our models. The higher the score, the more top-left our curve will be. ROC AUC is best used when our data is balanced, and if we care equally about positive and negative classes [[source]](https://neptune.ai/blog/f1-score-accuracy-roc-auc-pr-auc). It is better than accuracy as accuracy is calculated based on **predicted classes** while ROC AUC is calculated based on **predicted scores**. This means that ROC AUC as the main metric will be the most precise in determining the performance of our model. During the evaluation at the last part, we will plot a ROC AUC curve to visualize all our models' performances.\n",
    "\n",
    "#### Accuracy\n",
    "Accuracy measures how many observations, both positive and negative, were correctly classified. As our dataset is balanced, and we care about both positive and negative classes, this is a good and easily interpretable metric for us to use. Correctly predicting positive reviews means that businesses would have more power in terms of product promotion or advertisements, while negative reviews provide insights for improvement. Even though it is less precise than ROC AUC since it measures based on predicted classes and not predicted scores, showing this metric is helpful to explain to non-technical stakeholders.\n",
    "\n",
    "#### Specificity\n",
    "Specificity is the last most important metric for us to evaluate. It is also called True Negative Rate (TNR), which refers to the probability of a correct negative prediction. It takes into account True Negative (TN) and False Positive (FP), where it is calculated by taking TN divided by total TN and FP. The reason we want to focus on correct predictions of negatives, is because in the real world, negative reviews may be more important than positive reviews in providing insights for improvement, suggestions and shortcomings, that may be invaluable to the growth of a business. In addition, if a product is good/becomes good, there will be lesser and lesser negative reviews. In that case, it is crucial for our model to still be robust in predicting all the negative reviews, out of the imbalanced datasets with lesser negative pool.\n",
    "\n",
    "### Models\n",
    "Following models will be used for our classification problem:\n",
    "- Logistic Regression\n",
    "- Multinomial Naive Bayes\n",
    "- K-Nearest Neighbors Classifier\n",
    "- AdaBoost Classifier\n",
    "- Gradient Boosting Classifier\n",
    "- XGBoost Classifier\n",
    "- Decision Tree Classifier\n",
    "- Extra Trees Classifier\n",
    "- Random Forest Classifier\n",
    "\n",
    "### Vectorizers\n",
    "The 2 different transformers for each algorithm are:\n",
    "- Count Vectorizer\n",
    "- TF-IDF Vectorizer"
   ]
  },
  {
   "cell_type": "markdown",
   "id": "aa652129",
   "metadata": {},
   "source": [
    "## Library and Data Imports"
   ]
  },
  {
   "cell_type": "code",
   "execution_count": 1,
   "id": "6d3dbbaa",
   "metadata": {},
   "outputs": [],
   "source": [
    "import pandas as pd\n",
    "import numpy as np\n",
    "import matplotlib.pyplot as plt\n",
    "import seaborn as sns\n",
    "import scipy.stats as stats\n",
    "import regex as re\n",
    "\n",
    "import math\n",
    "import matplotlib.ticker as mticker\n",
    "\n",
    "import nltk\n",
    "from nltk.tokenize import sent_tokenize, word_tokenize, RegexpTokenizer\n",
    "from nltk.stem import WordNetLemmatizer\n",
    "from nltk.corpus import stopwords\n",
    "\n",
    "from sklearn.feature_extraction.text import CountVectorizer, TfidfVectorizer, TfidfTransformer\n",
    "from sklearn.metrics.pairwise import cosine_similarity\n",
    "from sklearn.model_selection import train_test_split, cross_val_score, GridSearchCV\n",
    "from sklearn.neighbors import KernelDensity\n",
    "from sklearn.preprocessing import StandardScaler\n",
    "from sklearn.pipeline import Pipeline\n",
    "from sklearn.ensemble import RandomForestClassifier, ExtraTreesClassifier, GradientBoostingClassifier, AdaBoostClassifier\n",
    "from sklearn.metrics import (confusion_matrix, plot_confusion_matrix, classification_report, plot_roc_curve, roc_auc_score, \n",
    "accuracy_score, precision_score, recall_score, f1_score, auc, precision_recall_curve, average_precision_score)\n",
    "from sklearn.linear_model import LogisticRegression\n",
    "from sklearn.neighbors import KNeighborsClassifier\n",
    "from sklearn.naive_bayes import MultinomialNB\n",
    "from sklearn.tree import DecisionTreeClassifier \n",
    "from sklearn.svm import SVC\n",
    "\n",
    "import xgboost as xgb\n",
    "from xgboost import XGBClassifier\n",
    "from xgboost import plot_importance \n",
    "\n",
    "from imblearn.over_sampling import SMOTE\n",
    "from imblearn.pipeline import Pipeline as Pipeline1\n",
    "\n",
    "import warnings\n",
    "import time\n",
    "warnings.filterwarnings(\"ignore\")\n",
    "pd.set_option('display.max_columns', None)\n",
    "pd.options.display.max_colwidth = 400"
   ]
  },
  {
   "cell_type": "code",
   "execution_count": 2,
   "id": "8b55c649",
   "metadata": {},
   "outputs": [],
   "source": [
    "# import cleaned data\n",
    "train = pd.read_csv('../data/train_cleaned.csv', index_col = 0)"
   ]
  },
  {
   "cell_type": "code",
   "execution_count": 3,
   "id": "8ef5adf8",
   "metadata": {},
   "outputs": [
    {
     "data": {
      "text/html": [
       "<div>\n",
       "<style scoped>\n",
       "    .dataframe tbody tr th:only-of-type {\n",
       "        vertical-align: middle;\n",
       "    }\n",
       "\n",
       "    .dataframe tbody tr th {\n",
       "        vertical-align: top;\n",
       "    }\n",
       "\n",
       "    .dataframe thead th {\n",
       "        text-align: right;\n",
       "    }\n",
       "</style>\n",
       "<table border=\"1\" class=\"dataframe\">\n",
       "  <thead>\n",
       "    <tr style=\"text-align: right;\">\n",
       "      <th></th>\n",
       "      <th>text</th>\n",
       "      <th>sentiment</th>\n",
       "      <th>rate</th>\n",
       "    </tr>\n",
       "  </thead>\n",
       "  <tbody>\n",
       "    <tr>\n",
       "      <th>0</th>\n",
       "      <td>zero day lead you to think even re think why two boy young men would do what they did commit mutual suicide via slaughtering their classmates. it capture what must be beyond a bizarre mode of being for two human who have decided to withdraw from common civility in order to define their own mutual world via coupled destruction. it is not a perfect movie but given what money time the filmmaker a...</td>\n",
       "      <td>1</td>\n",
       "      <td>10</td>\n",
       "    </tr>\n",
       "    <tr>\n",
       "      <th>1</th>\n",
       "      <td>word can't describe how bad this movie is. i can't explain it by writing only. you have too see it for yourself to get at grip of how horrible a movie really can be. not that i recommend you to do that. there are so many clich s mistake and all other negative thing you can imagine here that will just make you cry. to start with the technical first there are a lot of mistake regarding the airpl...</td>\n",
       "      <td>0</td>\n",
       "      <td>1</td>\n",
       "    </tr>\n",
       "    <tr>\n",
       "      <th>2</th>\n",
       "      <td>everyone play their part pretty well in this little nice movie . belushi get the chance to live part of his life differently but end up realizing that what he had going to be just a good or maybe even better. the movie show u that we ought to take advantage of the opportunity we have not the one we do not or cannot have. if u can get this movie on video for around it d be an investment</td>\n",
       "      <td>1</td>\n",
       "      <td>10</td>\n",
       "    </tr>\n",
       "    <tr>\n",
       "      <th>3</th>\n",
       "      <td>there are a lot of highly talented filmmaker actor in germany now. none of them are associated with this movie . why in the world do producer actually invest money in something like this this you could have made good film with the budget of this garbage it's not entertaining to have seven grown men running around a dwarf pretending to be funny. what is funny though is that the film's producer ...</td>\n",
       "      <td>0</td>\n",
       "      <td>1</td>\n",
       "    </tr>\n",
       "    <tr>\n",
       "      <th>4</th>\n",
       "      <td>i've just had the evidence that confirmed my suspicions. a bunch of kid to put on the dvd of titanic on a fantastic state of the art mega screen home entertainment type deal. only two of them had actually seen it before. but they all had seen the moment of kate leo and celine dion so many time that most of them felt they had seen the whole movie. shortly after the epic started they started to ...</td>\n",
       "      <td>0</td>\n",
       "      <td>2</td>\n",
       "    </tr>\n",
       "    <tr>\n",
       "      <th>...</th>\n",
       "      <td>...</td>\n",
       "      <td>...</td>\n",
       "      <td>...</td>\n",
       "    </tr>\n",
       "    <tr>\n",
       "      <th>24899</th>\n",
       "      <td>footlight parade released viewed . the ice cream cone is invented in new york. kevin after a long and busy break we hit another busby berkeley musical from warner bros. this time it's the ultra fast paced footlight parade starring james cagney a juggernaut stage producer chester kent. i am certain that cagney channeling berkeley with his performance of the irrepressible kent who to come up wit...</td>\n",
       "      <td>1</td>\n",
       "      <td>8</td>\n",
       "    </tr>\n",
       "    <tr>\n",
       "      <th>24900</th>\n",
       "      <td>deeply humorous yet honest comedy about a bunch of grownup bill paxton julie warner kevin pollak elizabeth perkins vincent spano matt craven and diane lane who are invited back to spend a week to tomawka a camp in ontario canada by their former consuelor alan arkin . writer director mike binder drew upon his experience at the same camp a the main source of creating a gentle and understanding y...</td>\n",
       "      <td>1</td>\n",
       "      <td>9</td>\n",
       "    </tr>\n",
       "    <tr>\n",
       "      <th>24901</th>\n",
       "      <td>st watched out of dir sydney pollack dvd version i watched titled day of the condor so so cia drama full of laid back performance making for a very laid back movie. the premise of the story revolves around out of member of a cia research group being killed with robert redford's character codename condor being the one that left. who killed them and why that's what redford try to find out while ...</td>\n",
       "      <td>0</td>\n",
       "      <td>4</td>\n",
       "    </tr>\n",
       "    <tr>\n",
       "      <th>24902</th>\n",
       "      <td>i watch lot of scary movie or at least they try to be and this to be the worst if not nd worst movie i have ever had to make myself try to sit through. i never knew the depth of masacism until i rented this piece of moldy cheese covered in a used latex contraceptive. i am a fan of julian sans but this is worse than i would hope for him. on the other hand the story promising and i intrigued...f...</td>\n",
       "      <td>0</td>\n",
       "      <td>2</td>\n",
       "    </tr>\n",
       "    <tr>\n",
       "      <th>24903</th>\n",
       "      <td>absolutely the worst film yet by burton who seems to be getting worse with each film he directs. a miserable script loaded with cliche is only the first of many objectionable aspect to this film. this is the kind of movie where every time something happens you'll be sure to hear someone shout out he's lost his gun or whatever it is to let everybody know. carter is really awful and so is wahlbe...</td>\n",
       "      <td>0</td>\n",
       "      <td>2</td>\n",
       "    </tr>\n",
       "  </tbody>\n",
       "</table>\n",
       "<p>24904 rows × 3 columns</p>\n",
       "</div>"
      ],
      "text/plain": [
       "                                                                                                                                                                                                                                                                                                                                                                                                                  text  \\\n",
       "0      zero day lead you to think even re think why two boy young men would do what they did commit mutual suicide via slaughtering their classmates. it capture what must be beyond a bizarre mode of being for two human who have decided to withdraw from common civility in order to define their own mutual world via coupled destruction. it is not a perfect movie but given what money time the filmmaker a...   \n",
       "1      word can't describe how bad this movie is. i can't explain it by writing only. you have too see it for yourself to get at grip of how horrible a movie really can be. not that i recommend you to do that. there are so many clich s mistake and all other negative thing you can imagine here that will just make you cry. to start with the technical first there are a lot of mistake regarding the airpl...   \n",
       "2                 everyone play their part pretty well in this little nice movie . belushi get the chance to live part of his life differently but end up realizing that what he had going to be just a good or maybe even better. the movie show u that we ought to take advantage of the opportunity we have not the one we do not or cannot have. if u can get this movie on video for around it d be an investment   \n",
       "3      there are a lot of highly talented filmmaker actor in germany now. none of them are associated with this movie . why in the world do producer actually invest money in something like this this you could have made good film with the budget of this garbage it's not entertaining to have seven grown men running around a dwarf pretending to be funny. what is funny though is that the film's producer ...   \n",
       "4      i've just had the evidence that confirmed my suspicions. a bunch of kid to put on the dvd of titanic on a fantastic state of the art mega screen home entertainment type deal. only two of them had actually seen it before. but they all had seen the moment of kate leo and celine dion so many time that most of them felt they had seen the whole movie. shortly after the epic started they started to ...   \n",
       "...                                                                                                                                                                                                                                                                                                                                                                                                                ...   \n",
       "24899  footlight parade released viewed . the ice cream cone is invented in new york. kevin after a long and busy break we hit another busby berkeley musical from warner bros. this time it's the ultra fast paced footlight parade starring james cagney a juggernaut stage producer chester kent. i am certain that cagney channeling berkeley with his performance of the irrepressible kent who to come up wit...   \n",
       "24900  deeply humorous yet honest comedy about a bunch of grownup bill paxton julie warner kevin pollak elizabeth perkins vincent spano matt craven and diane lane who are invited back to spend a week to tomawka a camp in ontario canada by their former consuelor alan arkin . writer director mike binder drew upon his experience at the same camp a the main source of creating a gentle and understanding y...   \n",
       "24901  st watched out of dir sydney pollack dvd version i watched titled day of the condor so so cia drama full of laid back performance making for a very laid back movie. the premise of the story revolves around out of member of a cia research group being killed with robert redford's character codename condor being the one that left. who killed them and why that's what redford try to find out while ...   \n",
       "24902  i watch lot of scary movie or at least they try to be and this to be the worst if not nd worst movie i have ever had to make myself try to sit through. i never knew the depth of masacism until i rented this piece of moldy cheese covered in a used latex contraceptive. i am a fan of julian sans but this is worse than i would hope for him. on the other hand the story promising and i intrigued...f...   \n",
       "24903  absolutely the worst film yet by burton who seems to be getting worse with each film he directs. a miserable script loaded with cliche is only the first of many objectionable aspect to this film. this is the kind of movie where every time something happens you'll be sure to hear someone shout out he's lost his gun or whatever it is to let everybody know. carter is really awful and so is wahlbe...   \n",
       "\n",
       "       sentiment  rate  \n",
       "0              1    10  \n",
       "1              0     1  \n",
       "2              1    10  \n",
       "3              0     1  \n",
       "4              0     2  \n",
       "...          ...   ...  \n",
       "24899          1     8  \n",
       "24900          1     9  \n",
       "24901          0     4  \n",
       "24902          0     2  \n",
       "24903          0     2  \n",
       "\n",
       "[24904 rows x 3 columns]"
      ]
     },
     "execution_count": 3,
     "metadata": {},
     "output_type": "execute_result"
    }
   ],
   "source": [
    "train"
   ]
  },
  {
   "cell_type": "code",
   "execution_count": 4,
   "id": "81a20d8b",
   "metadata": {},
   "outputs": [
    {
     "data": {
      "text/plain": [
       "1    0.500803\n",
       "0    0.499197\n",
       "Name: sentiment, dtype: float64"
      ]
     },
     "execution_count": 4,
     "metadata": {},
     "output_type": "execute_result"
    }
   ],
   "source": [
    "# Checking for class imbalance\n",
    "train['sentiment'].value_counts(normalize = True)\n",
    "\n",
    "# Balanced data, no need to use SMOTE"
   ]
  },
  {
   "cell_type": "markdown",
   "id": "0775cde5",
   "metadata": {},
   "source": [
    "## Train-test Split"
   ]
  },
  {
   "cell_type": "code",
   "execution_count": 5,
   "id": "44f5f884",
   "metadata": {},
   "outputs": [],
   "source": [
    "X = train['text']\n",
    "y = train['sentiment']"
   ]
  },
  {
   "cell_type": "code",
   "execution_count": 6,
   "id": "9f111e8b",
   "metadata": {},
   "outputs": [],
   "source": [
    "# Split the data into the training and testing sets.\n",
    "X_train, X_test, y_train, y_test = train_test_split(X, y, random_state = 42, stratify = y)"
   ]
  },
  {
   "cell_type": "markdown",
   "id": "5d91d4ac",
   "metadata": {},
   "source": [
    "## Modeling Functions and Stopwords\n",
    "\n",
    "Functions include:\n",
    "\n",
    "- running models\n",
    "- retrieving relevant scores and metrics\n",
    "- getting best parameters\n",
    "- creating confusion matrices\n",
    "- creating coefficient tables"
   ]
  },
  {
   "cell_type": "code",
   "execution_count": 7,
   "id": "0d4023bd",
   "metadata": {},
   "outputs": [],
   "source": [
    "# default stopwords list\n",
    "stopwords = stopwords.words('english')"
   ]
  },
  {
   "cell_type": "code",
   "execution_count": 8,
   "id": "4c969b4f",
   "metadata": {},
   "outputs": [],
   "source": [
    "# Initializing list for roc comparison\n",
    "gs_list = []"
   ]
  },
  {
   "cell_type": "code",
   "execution_count": 9,
   "id": "8924470b",
   "metadata": {},
   "outputs": [],
   "source": [
    "# lists to make into a summary dataframe later\n",
    "estim_ls = []\n",
    "trans_ls = []\n",
    "train_auc_ls = []\n",
    "test_auc_ls = []\n",
    "acc_score_ls = []\n",
    "speci_score_ls = []"
   ]
  },
  {
   "cell_type": "code",
   "execution_count": 10,
   "id": "89b15bd1",
   "metadata": {},
   "outputs": [],
   "source": [
    "# Instantiate transformers\n",
    "transformer = {'cvec': CountVectorizer(),\n",
    "               'tvec': TfidfVectorizer()\n",
    "              }"
   ]
  },
  {
   "cell_type": "code",
   "execution_count": 11,
   "id": "6b2728e5",
   "metadata": {},
   "outputs": [],
   "source": [
    "# Instantiate models\n",
    "models = {'lr': LogisticRegression(random_state = 42),\n",
    "          'nb': MultinomialNB(),\n",
    "          'knn': KNeighborsClassifier(),\n",
    "          'ada': AdaBoostClassifier(random_state=42),\n",
    "          'gb': GradientBoostingClassifier(random_state=42),\n",
    "          'xgb': xgb.XGBClassifier(random_state=42),\n",
    "          'dt': DecisionTreeClassifier(random_state = 42),\n",
    "          'et': ExtraTreesClassifier(random_state = 42),\n",
    "          'rf': RandomForestClassifier(random_state = 42)\n",
    "        }"
   ]
  },
  {
   "cell_type": "code",
   "execution_count": 12,
   "id": "71970773",
   "metadata": {},
   "outputs": [],
   "source": [
    "# Function to run model - input model and params\n",
    "def run_model(trans, mod, trans_params={}, mod_params={}, grid_search=True):\n",
    "    \n",
    "    results = {}\n",
    "    \n",
    "    # ========== Run model: Pipeline and GridSearchCV ==========\n",
    "    pipe = Pipeline([\n",
    "            (trans, transformer[trans]),\n",
    "            (mod, models[mod])\n",
    "            ])\n",
    "    \n",
    "    gs = GridSearchCV(pipe,\n",
    "                      param_grid = {**trans_params, **mod_params},\n",
    "                      cv=5,\n",
    "                      scoring = 'roc_auc',\n",
    "                      verbose=1,\n",
    "                      n_jobs=-1)\n",
    "    \n",
    "    gs.fit(X_train, y_train)\n",
    "    pipe = gs\n",
    "    \n",
    "    \n",
    "    # ========== Retrieve metrics ==========\n",
    "    # y predict\n",
    "    predictions = pipe.predict(X_test)\n",
    "    \n",
    "    # taking out TN, FP, FN, TP\n",
    "    tn, fp, fn, tp = confusion_matrix(y_test, predictions).ravel()\n",
    "    \n",
    "    # predict probability\n",
    "    y_test_pred_prob = pipe.predict_proba(X_test)[:,1]\n",
    "    y_train_pred_prob = pipe.predict_proba(X_train)[:,1]\n",
    "    \n",
    "    \n",
    "    # ========== Display results ==========\n",
    "    # model name\n",
    "    results['model'] = mod\n",
    "    \n",
    "    # train and test ROC AUC\n",
    "    train_auc = roc_auc_score(y_train, y_train_pred_prob)\n",
    "    results['train_auc'] = round(train_auc, 4)\n",
    "    \n",
    "    test_auc = roc_auc_score(y_test, y_test_pred_prob)\n",
    "    results['test_auc'] = round(test_auc, 4)\n",
    "    \n",
    "    # Overall accuracy is important as well\n",
    "    accuracy = (tp + tn) / (tn + fp + fn + tp)\n",
    "    results['accuracy'] = round(accuracy, 4)\n",
    "    \n",
    "    # specificity. Must reduce FP, so this is important\n",
    "    specificity = tn / (tn + fp)\n",
    "    results['specificity'] = round(specificity, 4)\n",
    "    \n",
    "#     results['precision'] = precision_score(y_test, predictions)\n",
    "#     results['recall'] = recall_score(y_test, predictions)\n",
    "#     results['f1_score'] = f1_score(y_test, predictions)\n",
    "    \n",
    "    gs_list.append(results)\n",
    "    print('============= Best model parameters ===============')\n",
    "    display(pipe.best_params_)\n",
    "    \n",
    "    print('=================== METRICS =======================')\n",
    "    display(results)\n",
    "    \n",
    "    # confusion metrics\n",
    "    print(f\"True Negatives: {tn}\")\n",
    "    print(f\"False Positives: {fp}\")\n",
    "    print(f\"False Negatives: {fn}\")\n",
    "    print(f\"True Positives: {tp}\")\n",
    "    \n",
    "    # View confusion matrix\n",
    "    display(confusion_matrix(y_test, predictions))\n",
    "    \n",
    "    # appending to lists\n",
    "    estim_ls.append(pipe.best_estimator_.steps[1][1])\n",
    "    trans_ls.append(pipe.best_estimator_.steps[0][0])\n",
    "    train_auc_ls.append(round(train_auc, 4))\n",
    "    test_auc_ls.append(round(test_auc, 4))\n",
    "    acc_score_ls.append(round(accuracy, 4))\n",
    "    speci_score_ls.append(round(specificity, 4))\n",
    "    \n",
    "    return pipe"
   ]
  },
  {
   "cell_type": "markdown",
   "id": "0143d13d",
   "metadata": {},
   "source": [
    "## Logistic Regression"
   ]
  },
  {
   "cell_type": "markdown",
   "id": "04954653",
   "metadata": {},
   "source": [
    "### Logistic Regression with Count Vectorizer"
   ]
  },
  {
   "cell_type": "code",
   "execution_count": 14,
   "id": "48231137",
   "metadata": {},
   "outputs": [],
   "source": [
    "# vectorizer params\n",
    "trans_cvec_lr = {\n",
    "    'cvec__max_features': [None, 8000],\n",
    "    'cvec__min_df':[4, 5],\n",
    "    'cvec__max_df':[.95, .975],\n",
    "    'cvec__ngram_range': [(1,2), (2,2)],\n",
    "    'cvec__stop_words': [None, 'english']\n",
    "}"
   ]
  },
  {
   "cell_type": "code",
   "execution_count": 15,
   "id": "c125259d",
   "metadata": {},
   "outputs": [],
   "source": [
    "# model params\n",
    "mod_cvec_lr = {'lr__C':[10],\n",
    "             'lr__class_weight':['balanced'],\n",
    "             'lr__penalty':['l2'],\n",
    "             'lr__solver':['newton-cg']\n",
    "             }"
   ]
  },
  {
   "cell_type": "code",
   "execution_count": 16,
   "id": "7d2a3c7c",
   "metadata": {},
   "outputs": [
    {
     "name": "stdout",
     "output_type": "stream",
     "text": [
      "Fitting 5 folds for each of 32 candidates, totalling 160 fits\n",
      "============= Best model parameters ===============\n"
     ]
    },
    {
     "data": {
      "text/plain": [
       "{'cvec__max_df': 0.95,\n",
       " 'cvec__max_features': None,\n",
       " 'cvec__min_df': 4,\n",
       " 'cvec__ngram_range': (1, 2),\n",
       " 'cvec__stop_words': None,\n",
       " 'lr__C': 10,\n",
       " 'lr__class_weight': 'balanced',\n",
       " 'lr__penalty': 'l2',\n",
       " 'lr__solver': 'newton-cg'}"
      ]
     },
     "metadata": {},
     "output_type": "display_data"
    },
    {
     "name": "stdout",
     "output_type": "stream",
     "text": [
      "=================== METRICS =======================\n"
     ]
    },
    {
     "data": {
      "text/plain": [
       "{'model': 'lr',\n",
       " 'train_auc': 1.0,\n",
       " 'test_auc': 0.9537,\n",
       " 'accuracy': 0.8908,\n",
       " 'specificity': 0.8835}"
      ]
     },
     "metadata": {},
     "output_type": "display_data"
    },
    {
     "name": "stdout",
     "output_type": "stream",
     "text": [
      "True Negatives: 2746\n",
      "False Positives: 362\n",
      "False Negatives: 318\n",
      "True Positives: 2800\n"
     ]
    },
    {
     "data": {
      "text/plain": [
       "array([[2746,  362],\n",
       "       [ 318, 2800]], dtype=int64)"
      ]
     },
     "metadata": {},
     "output_type": "display_data"
    },
    {
     "name": "stdout",
     "output_type": "stream",
     "text": [
      "Wall time: 23min 24s\n"
     ]
    }
   ],
   "source": [
    "%%time\n",
    "lr_cvec = run_model('cvec', 'lr', trans_params = trans_cvec_lr, mod_params = mod_cvec_lr, grid_search = True)"
   ]
  },
  {
   "cell_type": "markdown",
   "id": "4b44d9f4",
   "metadata": {},
   "source": [
    "### Logistic Regression with TF-IDF Vectorizer"
   ]
  },
  {
   "cell_type": "code",
   "execution_count": 17,
   "id": "3462d232",
   "metadata": {},
   "outputs": [],
   "source": [
    "# vectorizer params\n",
    "trans_tvec_lr = {\n",
    "    'tvec__max_features': [None, 8000],\n",
    "    'tvec__min_df':[4, 5],\n",
    "    'tvec__max_df':[.95, .975],\n",
    "    'tvec__ngram_range': [(1,2), (2,2)],\n",
    "    'tvec__stop_words': [None, 'english']\n",
    "}"
   ]
  },
  {
   "cell_type": "code",
   "execution_count": 18,
   "id": "8e41cfdc",
   "metadata": {},
   "outputs": [],
   "source": [
    "# model params\n",
    "mod_tvec_lr = {'lr__C':[10],\n",
    "             'lr__class_weight':['balanced'],\n",
    "             'lr__penalty':['l2'],\n",
    "             'lr__solver':['newton-cg']\n",
    "             }"
   ]
  },
  {
   "cell_type": "code",
   "execution_count": 19,
   "id": "b35f7436",
   "metadata": {},
   "outputs": [
    {
     "name": "stdout",
     "output_type": "stream",
     "text": [
      "Fitting 5 folds for each of 32 candidates, totalling 160 fits\n",
      "============= Best model parameters ===============\n"
     ]
    },
    {
     "data": {
      "text/plain": [
       "{'lr__C': 10,\n",
       " 'lr__class_weight': 'balanced',\n",
       " 'lr__penalty': 'l2',\n",
       " 'lr__solver': 'newton-cg',\n",
       " 'tvec__max_df': 0.95,\n",
       " 'tvec__max_features': None,\n",
       " 'tvec__min_df': 4,\n",
       " 'tvec__ngram_range': (1, 2),\n",
       " 'tvec__stop_words': None}"
      ]
     },
     "metadata": {},
     "output_type": "display_data"
    },
    {
     "name": "stdout",
     "output_type": "stream",
     "text": [
      "=================== METRICS =======================\n"
     ]
    },
    {
     "data": {
      "text/plain": [
       "{'model': 'lr',\n",
       " 'train_auc': 1.0,\n",
       " 'test_auc': 0.9657,\n",
       " 'accuracy': 0.9054,\n",
       " 'specificity': 0.8964}"
      ]
     },
     "metadata": {},
     "output_type": "display_data"
    },
    {
     "name": "stdout",
     "output_type": "stream",
     "text": [
      "True Negatives: 2786\n",
      "False Positives: 322\n",
      "False Negatives: 267\n",
      "True Positives: 2851\n"
     ]
    },
    {
     "data": {
      "text/plain": [
       "array([[2786,  322],\n",
       "       [ 267, 2851]], dtype=int64)"
      ]
     },
     "metadata": {},
     "output_type": "display_data"
    },
    {
     "name": "stdout",
     "output_type": "stream",
     "text": [
      "Wall time: 14min 23s\n"
     ]
    }
   ],
   "source": [
    "%%time\n",
    "lr_tvec = run_model('tvec', 'lr', trans_params = trans_tvec_lr, mod_params = mod_tvec_lr, grid_search = True)"
   ]
  },
  {
   "cell_type": "markdown",
   "id": "268b2c9f",
   "metadata": {},
   "source": [
    "## Naive Bayes"
   ]
  },
  {
   "cell_type": "markdown",
   "id": "42aa4b8d",
   "metadata": {},
   "source": [
    "### Naive Bayes with Count Vectorizer"
   ]
  },
  {
   "cell_type": "code",
   "execution_count": 29,
   "id": "069d8bfc",
   "metadata": {},
   "outputs": [],
   "source": [
    "# vectorizer params\n",
    "trans_cvec_nb = {\n",
    "    'cvec__max_features': [None],\n",
    "    'cvec__min_df':[4, 5],\n",
    "    'cvec__max_df':[.95, .975],\n",
    "    'cvec__ngram_range': [(1,2), (2,2)],\n",
    "    'cvec__stop_words': [None, 'english']\n",
    "}"
   ]
  },
  {
   "cell_type": "code",
   "execution_count": 30,
   "id": "f260ddbc",
   "metadata": {},
   "outputs": [],
   "source": [
    "# model params\n",
    "mod_cvec_nb = {'nb__alpha': [1, 2],\n",
    "              'nb__fit_prior': [True]\n",
    "              }"
   ]
  },
  {
   "cell_type": "code",
   "execution_count": 31,
   "id": "ca3d3213",
   "metadata": {},
   "outputs": [
    {
     "name": "stdout",
     "output_type": "stream",
     "text": [
      "Fitting 5 folds for each of 32 candidates, totalling 160 fits\n",
      "============= Best model parameters ===============\n"
     ]
    },
    {
     "data": {
      "text/plain": [
       "{'cvec__max_df': 0.95,\n",
       " 'cvec__max_features': None,\n",
       " 'cvec__min_df': 4,\n",
       " 'cvec__ngram_range': (2, 2),\n",
       " 'cvec__stop_words': None,\n",
       " 'nb__alpha': 1,\n",
       " 'nb__fit_prior': True}"
      ]
     },
     "metadata": {},
     "output_type": "display_data"
    },
    {
     "name": "stdout",
     "output_type": "stream",
     "text": [
      "=================== METRICS =======================\n"
     ]
    },
    {
     "data": {
      "text/plain": [
       "{'model': 'nb',\n",
       " 'train_auc': 0.9936,\n",
       " 'test_auc': 0.9408,\n",
       " 'accuracy': 0.8824,\n",
       " 'specificity': 0.8867}"
      ]
     },
     "metadata": {},
     "output_type": "display_data"
    },
    {
     "name": "stdout",
     "output_type": "stream",
     "text": [
      "True Negatives: 2756\n",
      "False Positives: 352\n",
      "False Negatives: 380\n",
      "True Positives: 2738\n"
     ]
    },
    {
     "data": {
      "text/plain": [
       "array([[2756,  352],\n",
       "       [ 380, 2738]], dtype=int64)"
      ]
     },
     "metadata": {},
     "output_type": "display_data"
    },
    {
     "name": "stdout",
     "output_type": "stream",
     "text": [
      "Wall time: 13min\n"
     ]
    }
   ],
   "source": [
    "%%time\n",
    "nb_cvec = run_model('cvec', 'nb', trans_params = trans_cvec_nb, mod_params = mod_cvec_nb, grid_search = True)"
   ]
  },
  {
   "cell_type": "markdown",
   "id": "e03e227a",
   "metadata": {},
   "source": [
    "### Naive Bayes with TF-IDF Vectorizer"
   ]
  },
  {
   "cell_type": "code",
   "execution_count": 32,
   "id": "d1eed2c8",
   "metadata": {},
   "outputs": [],
   "source": [
    "# vectorizer params\n",
    "trans_tvec_nb = {\n",
    "    'tvec__max_features': [None],\n",
    "    'tvec__min_df':[4, 5],\n",
    "    'tvec__max_df':[.95, .975],\n",
    "    'tvec__ngram_range': [(1,2), (2,2)],\n",
    "    'tvec__stop_words': [None, 'english']\n",
    "}"
   ]
  },
  {
   "cell_type": "code",
   "execution_count": 33,
   "id": "3387e52c",
   "metadata": {},
   "outputs": [],
   "source": [
    "# model params\n",
    "mod_tvec_nb = {'nb__alpha': [1, 2],\n",
    "              'nb__fit_prior': [True]\n",
    "              }"
   ]
  },
  {
   "cell_type": "code",
   "execution_count": 34,
   "id": "3bd07296",
   "metadata": {},
   "outputs": [
    {
     "name": "stdout",
     "output_type": "stream",
     "text": [
      "Fitting 5 folds for each of 32 candidates, totalling 160 fits\n",
      "============= Best model parameters ===============\n"
     ]
    },
    {
     "data": {
      "text/plain": [
       "{'nb__alpha': 1,\n",
       " 'nb__fit_prior': True,\n",
       " 'tvec__max_df': 0.95,\n",
       " 'tvec__max_features': None,\n",
       " 'tvec__min_df': 4,\n",
       " 'tvec__ngram_range': (2, 2),\n",
       " 'tvec__stop_words': None}"
      ]
     },
     "metadata": {},
     "output_type": "display_data"
    },
    {
     "name": "stdout",
     "output_type": "stream",
     "text": [
      "=================== METRICS =======================\n"
     ]
    },
    {
     "data": {
      "text/plain": [
       "{'model': 'nb',\n",
       " 'train_auc': 0.9933,\n",
       " 'test_auc': 0.9505,\n",
       " 'accuracy': 0.8807,\n",
       " 'specificity': 0.8887}"
      ]
     },
     "metadata": {},
     "output_type": "display_data"
    },
    {
     "name": "stdout",
     "output_type": "stream",
     "text": [
      "True Negatives: 2762\n",
      "False Positives: 346\n",
      "False Negatives: 397\n",
      "True Positives: 2721\n"
     ]
    },
    {
     "data": {
      "text/plain": [
       "array([[2762,  346],\n",
       "       [ 397, 2721]], dtype=int64)"
      ]
     },
     "metadata": {},
     "output_type": "display_data"
    },
    {
     "name": "stdout",
     "output_type": "stream",
     "text": [
      "Wall time: 13min 5s\n"
     ]
    }
   ],
   "source": [
    "%%time\n",
    "nb_tvec = run_model('tvec', 'nb', trans_params = trans_tvec_nb, mod_params = mod_tvec_nb, grid_search = True)"
   ]
  },
  {
   "cell_type": "markdown",
   "id": "d9618717",
   "metadata": {},
   "source": [
    "## K-Nearest Neighbors"
   ]
  },
  {
   "cell_type": "markdown",
   "id": "e63622c3",
   "metadata": {},
   "source": [
    "### K-Nearest Neighbors with Count Vectorizer"
   ]
  },
  {
   "cell_type": "code",
   "execution_count": 35,
   "id": "5e8b133e",
   "metadata": {},
   "outputs": [],
   "source": [
    "# vectorizer params\n",
    "trans_cvec_knn = {\n",
    "    'cvec__max_features': [3000, 5000],\n",
    "    'cvec__min_df':[3, 4],\n",
    "    'cvec__max_df':[.95, .975],\n",
    "    'cvec__ngram_range': [(1,2), (2,2)],\n",
    "    'cvec__stop_words': [None, 'english']\n",
    "}"
   ]
  },
  {
   "cell_type": "code",
   "execution_count": 36,
   "id": "649ab289",
   "metadata": {},
   "outputs": [],
   "source": [
    "# model params\n",
    "mod_cvec_knn = {'knn__algorithm':['auto'],\n",
    "                'knn__weights':['distance']\n",
    "               }"
   ]
  },
  {
   "cell_type": "code",
   "execution_count": 37,
   "id": "9d570718",
   "metadata": {},
   "outputs": [
    {
     "name": "stdout",
     "output_type": "stream",
     "text": [
      "Fitting 5 folds for each of 32 candidates, totalling 160 fits\n",
      "============= Best model parameters ===============\n"
     ]
    },
    {
     "data": {
      "text/plain": [
       "{'cvec__max_df': 0.975,\n",
       " 'cvec__max_features': 3000,\n",
       " 'cvec__min_df': 4,\n",
       " 'cvec__ngram_range': (1, 2),\n",
       " 'cvec__stop_words': None,\n",
       " 'knn__algorithm': 'auto',\n",
       " 'knn__weights': 'distance'}"
      ]
     },
     "metadata": {},
     "output_type": "display_data"
    },
    {
     "name": "stdout",
     "output_type": "stream",
     "text": [
      "=================== METRICS =======================\n"
     ]
    },
    {
     "data": {
      "text/plain": [
       "{'model': 'knn',\n",
       " 'train_auc': 1.0,\n",
       " 'test_auc': 0.685,\n",
       " 'accuracy': 0.6303,\n",
       " 'specificity': 0.4755}"
      ]
     },
     "metadata": {},
     "output_type": "display_data"
    },
    {
     "name": "stdout",
     "output_type": "stream",
     "text": [
      "True Negatives: 1478\n",
      "False Positives: 1630\n",
      "False Negatives: 672\n",
      "True Positives: 2446\n"
     ]
    },
    {
     "data": {
      "text/plain": [
       "array([[1478, 1630],\n",
       "       [ 672, 2446]], dtype=int64)"
      ]
     },
     "metadata": {},
     "output_type": "display_data"
    },
    {
     "name": "stdout",
     "output_type": "stream",
     "text": [
      "Wall time: 23min 2s\n"
     ]
    }
   ],
   "source": [
    "%%time\n",
    "knn_cvec = run_model('cvec', 'knn', trans_params = trans_cvec_knn, mod_params = mod_cvec_knn, grid_search = True)"
   ]
  },
  {
   "cell_type": "markdown",
   "id": "07343586",
   "metadata": {},
   "source": [
    "### K-Nearest Neighbors with TF-IDF Vectorizer"
   ]
  },
  {
   "cell_type": "code",
   "execution_count": 38,
   "id": "4d77f965",
   "metadata": {},
   "outputs": [],
   "source": [
    "# vectorizer params\n",
    "trans_tvec_knn = {\n",
    "    'tvec__max_features': [3000, 5000],\n",
    "    'tvec__min_df':[4, 5],\n",
    "    'tvec__max_df':[.95, .975],\n",
    "    'tvec__ngram_range': [(1,2), (2,2)],\n",
    "    'tvec__stop_words': [None, 'english']\n",
    "}"
   ]
  },
  {
   "cell_type": "code",
   "execution_count": 39,
   "id": "96bc8a44",
   "metadata": {},
   "outputs": [],
   "source": [
    "# model params\n",
    "mod_tvec_knn = {'knn__algorithm':['auto'],\n",
    "                'knn__weights':['distance']\n",
    "               }"
   ]
  },
  {
   "cell_type": "code",
   "execution_count": 40,
   "id": "97cc6704",
   "metadata": {},
   "outputs": [
    {
     "name": "stdout",
     "output_type": "stream",
     "text": [
      "Fitting 5 folds for each of 32 candidates, totalling 160 fits\n",
      "============= Best model parameters ===============\n"
     ]
    },
    {
     "data": {
      "text/plain": [
       "{'knn__algorithm': 'auto',\n",
       " 'knn__weights': 'distance',\n",
       " 'tvec__max_df': 0.95,\n",
       " 'tvec__max_features': 5000,\n",
       " 'tvec__min_df': 4,\n",
       " 'tvec__ngram_range': (1, 2),\n",
       " 'tvec__stop_words': 'english'}"
      ]
     },
     "metadata": {},
     "output_type": "display_data"
    },
    {
     "name": "stdout",
     "output_type": "stream",
     "text": [
      "=================== METRICS =======================\n"
     ]
    },
    {
     "data": {
      "text/plain": [
       "{'model': 'knn',\n",
       " 'train_auc': 1.0,\n",
       " 'test_auc': 0.8286,\n",
       " 'accuracy': 0.7512,\n",
       " 'specificity': 0.6866}"
      ]
     },
     "metadata": {},
     "output_type": "display_data"
    },
    {
     "name": "stdout",
     "output_type": "stream",
     "text": [
      "True Negatives: 2134\n",
      "False Positives: 974\n",
      "False Negatives: 575\n",
      "True Positives: 2543\n"
     ]
    },
    {
     "data": {
      "text/plain": [
       "array([[2134,  974],\n",
       "       [ 575, 2543]], dtype=int64)"
      ]
     },
     "metadata": {},
     "output_type": "display_data"
    },
    {
     "name": "stdout",
     "output_type": "stream",
     "text": [
      "Wall time: 16min 35s\n"
     ]
    }
   ],
   "source": [
    "%%time\n",
    "knn_tvec = run_model('tvec', 'knn', trans_params = trans_tvec_knn, mod_params = mod_tvec_knn, grid_search = True)"
   ]
  },
  {
   "cell_type": "markdown",
   "id": "667b31c4",
   "metadata": {},
   "source": [
    "## AdaBoost"
   ]
  },
  {
   "cell_type": "markdown",
   "id": "ef739222",
   "metadata": {},
   "source": [
    "### AdaBoost with Count Vectorizer"
   ]
  },
  {
   "cell_type": "code",
   "execution_count": 41,
   "id": "1b8d6601",
   "metadata": {},
   "outputs": [],
   "source": [
    "# vectorizer params\n",
    "trans_cvec_ada = {\n",
    "    'cvec__max_features': [5000, 6000],\n",
    "    'cvec__min_df':[3, 4],\n",
    "    'cvec__max_df':[.95, .975],\n",
    "    'cvec__ngram_range': [(1,2), (2,2)],\n",
    "    'cvec__stop_words': [None, 'english']\n",
    "}"
   ]
  },
  {
   "cell_type": "code",
   "execution_count": 42,
   "id": "874545ac",
   "metadata": {},
   "outputs": [],
   "source": [
    "# model params\n",
    "mod_cvec_ada = {'ada__n_estimators': [50, 100],\n",
    "                'ada__learning_rate': [1.0],\n",
    "               }"
   ]
  },
  {
   "cell_type": "code",
   "execution_count": 43,
   "id": "db9a3abf",
   "metadata": {},
   "outputs": [
    {
     "name": "stdout",
     "output_type": "stream",
     "text": [
      "Fitting 5 folds for each of 64 candidates, totalling 320 fits\n",
      "============= Best model parameters ===============\n"
     ]
    },
    {
     "data": {
      "text/plain": [
       "{'ada__learning_rate': 1.0,\n",
       " 'ada__n_estimators': 100,\n",
       " 'cvec__max_df': 0.975,\n",
       " 'cvec__max_features': 6000,\n",
       " 'cvec__min_df': 3,\n",
       " 'cvec__ngram_range': (1, 2),\n",
       " 'cvec__stop_words': None}"
      ]
     },
     "metadata": {},
     "output_type": "display_data"
    },
    {
     "name": "stdout",
     "output_type": "stream",
     "text": [
      "=================== METRICS =======================\n"
     ]
    },
    {
     "data": {
      "text/plain": [
       "{'model': 'ada',\n",
       " 'train_auc': 0.9192,\n",
       " 'test_auc': 0.9129,\n",
       " 'accuracy': 0.835,\n",
       " 'specificity': 0.8137}"
      ]
     },
     "metadata": {},
     "output_type": "display_data"
    },
    {
     "name": "stdout",
     "output_type": "stream",
     "text": [
      "True Negatives: 2529\n",
      "False Positives: 579\n",
      "False Negatives: 448\n",
      "True Positives: 2670\n"
     ]
    },
    {
     "data": {
      "text/plain": [
       "array([[2529,  579],\n",
       "       [ 448, 2670]], dtype=int64)"
      ]
     },
     "metadata": {},
     "output_type": "display_data"
    },
    {
     "name": "stdout",
     "output_type": "stream",
     "text": [
      "Wall time: 37min 17s\n"
     ]
    }
   ],
   "source": [
    "%%time\n",
    "ada_cvec = run_model('cvec', 'ada', trans_params = trans_cvec_ada, mod_params = mod_cvec_ada, grid_search = True)"
   ]
  },
  {
   "cell_type": "markdown",
   "id": "b8d77a69",
   "metadata": {},
   "source": [
    "### AdaBoost with TF-IDF Vectorizer"
   ]
  },
  {
   "cell_type": "code",
   "execution_count": 44,
   "id": "ecbabc5d",
   "metadata": {},
   "outputs": [],
   "source": [
    "# vectorizer params\n",
    "trans_tvec_ada = {\n",
    "    'tvec__max_features': [8000, 9000],\n",
    "    'tvec__min_df':[3, 4],\n",
    "    'tvec__max_df':[.95, .975],\n",
    "    'tvec__ngram_range': [(1,2), (2,2)],\n",
    "    'tvec__stop_words': [None, 'english']\n",
    "}"
   ]
  },
  {
   "cell_type": "code",
   "execution_count": 45,
   "id": "07beb6a0",
   "metadata": {},
   "outputs": [],
   "source": [
    "# model params\n",
    "mod_tvec_ada = {'ada__n_estimators': [50, 100],\n",
    "                'ada__learning_rate': [1.0],\n",
    "               }"
   ]
  },
  {
   "cell_type": "code",
   "execution_count": 46,
   "id": "04661e72",
   "metadata": {},
   "outputs": [
    {
     "name": "stdout",
     "output_type": "stream",
     "text": [
      "Fitting 5 folds for each of 64 candidates, totalling 320 fits\n",
      "============= Best model parameters ===============\n"
     ]
    },
    {
     "data": {
      "text/plain": [
       "{'ada__learning_rate': 1.0,\n",
       " 'ada__n_estimators': 100,\n",
       " 'tvec__max_df': 0.975,\n",
       " 'tvec__max_features': 8000,\n",
       " 'tvec__min_df': 4,\n",
       " 'tvec__ngram_range': (1, 2),\n",
       " 'tvec__stop_words': None}"
      ]
     },
     "metadata": {},
     "output_type": "display_data"
    },
    {
     "name": "stdout",
     "output_type": "stream",
     "text": [
      "=================== METRICS =======================\n"
     ]
    },
    {
     "data": {
      "text/plain": [
       "{'model': 'ada',\n",
       " 'train_auc': 0.926,\n",
       " 'test_auc': 0.9121,\n",
       " 'accuracy': 0.8304,\n",
       " 'specificity': 0.8076}"
      ]
     },
     "metadata": {},
     "output_type": "display_data"
    },
    {
     "name": "stdout",
     "output_type": "stream",
     "text": [
      "True Negatives: 2510\n",
      "False Positives: 598\n",
      "False Negatives: 458\n",
      "True Positives: 2660\n"
     ]
    },
    {
     "data": {
      "text/plain": [
       "array([[2510,  598],\n",
       "       [ 458, 2660]], dtype=int64)"
      ]
     },
     "metadata": {},
     "output_type": "display_data"
    },
    {
     "name": "stdout",
     "output_type": "stream",
     "text": [
      "Wall time: 1h 1min 12s\n"
     ]
    }
   ],
   "source": [
    "%%time\n",
    "ada_tvec = run_model('tvec', 'ada', trans_params = trans_tvec_ada, mod_params = mod_tvec_ada, grid_search = True)"
   ]
  },
  {
   "cell_type": "markdown",
   "id": "c5153fd5",
   "metadata": {},
   "source": [
    "## Gradient Boosting Classifier"
   ]
  },
  {
   "cell_type": "markdown",
   "id": "15e976db",
   "metadata": {},
   "source": [
    "### Gradient Boosting Classifier with Count Vectorizer"
   ]
  },
  {
   "cell_type": "code",
   "execution_count": 47,
   "id": "589f6887",
   "metadata": {},
   "outputs": [],
   "source": [
    "# vectorizer params\n",
    "trans_cvec_gb = {\n",
    "    'cvec__max_features': [8000, 9000],\n",
    "    'cvec__min_df':[3, 4],\n",
    "    'cvec__max_df':[.975],\n",
    "    'cvec__ngram_range': [(1,2), (2,2)],\n",
    "    'cvec__stop_words': [None, 'english']\n",
    "}"
   ]
  },
  {
   "cell_type": "code",
   "execution_count": 48,
   "id": "e5f3c4a6",
   "metadata": {},
   "outputs": [],
   "source": [
    "# model params\n",
    "mod_cvec_gb = {'gb__n_estimators': [100, 200],\n",
    "             'gb__learning_rate': [0.1, 0.2],\n",
    "}"
   ]
  },
  {
   "cell_type": "code",
   "execution_count": 53,
   "id": "1cb4bf44",
   "metadata": {},
   "outputs": [
    {
     "name": "stdout",
     "output_type": "stream",
     "text": [
      "Fitting 5 folds for each of 64 candidates, totalling 320 fits\n",
      "============= Best model parameters ===============\n"
     ]
    },
    {
     "data": {
      "text/plain": [
       "{'cvec__max_df': 0.975,\n",
       " 'cvec__max_features': 9000,\n",
       " 'cvec__min_df': 4,\n",
       " 'cvec__ngram_range': (1, 2),\n",
       " 'cvec__stop_words': None,\n",
       " 'gb__learning_rate': 0.2,\n",
       " 'gb__n_estimators': 200}"
      ]
     },
     "metadata": {},
     "output_type": "display_data"
    },
    {
     "name": "stdout",
     "output_type": "stream",
     "text": [
      "=================== METRICS =======================\n"
     ]
    },
    {
     "data": {
      "text/plain": [
       "{'model': 'gb',\n",
       " 'train_auc': 0.9722,\n",
       " 'test_auc': 0.9356,\n",
       " 'accuracy': 0.8628,\n",
       " 'specificity': 0.8362}"
      ]
     },
     "metadata": {},
     "output_type": "display_data"
    },
    {
     "name": "stdout",
     "output_type": "stream",
     "text": [
      "True Negatives: 2599\n",
      "False Positives: 509\n",
      "False Negatives: 345\n",
      "True Positives: 2773\n"
     ]
    },
    {
     "data": {
      "text/plain": [
       "array([[2599,  509],\n",
       "       [ 345, 2773]], dtype=int64)"
      ]
     },
     "metadata": {},
     "output_type": "display_data"
    },
    {
     "name": "stdout",
     "output_type": "stream",
     "text": [
      "Wall time: 1h 11min 11s\n"
     ]
    }
   ],
   "source": [
    "%%time\n",
    "gb_cvec = run_model('cvec', 'gb', trans_params = trans_cvec_gb, mod_params = mod_cvec_gb, grid_search = True)"
   ]
  },
  {
   "cell_type": "markdown",
   "id": "423231be",
   "metadata": {},
   "source": [
    "### Gradient Boosting Classifier with TF-IDF Vectorizer"
   ]
  },
  {
   "cell_type": "code",
   "execution_count": 54,
   "id": "10556342",
   "metadata": {},
   "outputs": [],
   "source": [
    "# vectorizer params\n",
    "trans_tvec_gb = {\n",
    "    'tvec__max_features': [6000, 7000],\n",
    "    'tvec__min_df':[5],\n",
    "    'tvec__max_df':[.9, .95],\n",
    "    'tvec__ngram_range': [(1,2), (2,2)],\n",
    "    'tvec__stop_words': [None, 'english']\n",
    "}"
   ]
  },
  {
   "cell_type": "code",
   "execution_count": 55,
   "id": "736ab2fa",
   "metadata": {},
   "outputs": [],
   "source": [
    "# model params\n",
    "mod_tvec_gb = {'gb__n_estimators': [100, 200],\n",
    "             'gb__learning_rate': [0.1, 0.2],\n",
    "}"
   ]
  },
  {
   "cell_type": "code",
   "execution_count": 56,
   "id": "9408fdeb",
   "metadata": {},
   "outputs": [
    {
     "name": "stdout",
     "output_type": "stream",
     "text": [
      "Fitting 5 folds for each of 64 candidates, totalling 320 fits\n",
      "============= Best model parameters ===============\n"
     ]
    },
    {
     "data": {
      "text/plain": [
       "{'gb__learning_rate': 0.2,\n",
       " 'gb__n_estimators': 200,\n",
       " 'tvec__max_df': 0.9,\n",
       " 'tvec__max_features': 7000,\n",
       " 'tvec__min_df': 5,\n",
       " 'tvec__ngram_range': (1, 2),\n",
       " 'tvec__stop_words': None}"
      ]
     },
     "metadata": {},
     "output_type": "display_data"
    },
    {
     "name": "stdout",
     "output_type": "stream",
     "text": [
      "=================== METRICS =======================\n"
     ]
    },
    {
     "data": {
      "text/plain": [
       "{'model': 'gb',\n",
       " 'train_auc': 0.9784,\n",
       " 'test_auc': 0.9338,\n",
       " 'accuracy': 0.8577,\n",
       " 'specificity': 0.8308}"
      ]
     },
     "metadata": {},
     "output_type": "display_data"
    },
    {
     "name": "stdout",
     "output_type": "stream",
     "text": [
      "True Negatives: 2582\n",
      "False Positives: 526\n",
      "False Negatives: 360\n",
      "True Positives: 2758\n"
     ]
    },
    {
     "data": {
      "text/plain": [
       "array([[2582,  526],\n",
       "       [ 360, 2758]], dtype=int64)"
      ]
     },
     "metadata": {},
     "output_type": "display_data"
    },
    {
     "name": "stdout",
     "output_type": "stream",
     "text": [
      "Wall time: 2h 33min 57s\n"
     ]
    }
   ],
   "source": [
    "%%time\n",
    "gb_tvec = run_model('tvec', 'gb', trans_params = trans_tvec_gb, mod_params = mod_tvec_gb, grid_search = True)"
   ]
  },
  {
   "cell_type": "markdown",
   "id": "36292ca6",
   "metadata": {},
   "source": [
    "## XGBoost Classifier"
   ]
  },
  {
   "cell_type": "markdown",
   "id": "08ad7fdb",
   "metadata": {},
   "source": [
    "### XGBoost Classifier with Count Vectorizer"
   ]
  },
  {
   "cell_type": "code",
   "execution_count": 57,
   "id": "7bf5b04e",
   "metadata": {},
   "outputs": [],
   "source": [
    "# vectorizer params\n",
    "trans_cvec_xgb = {\n",
    "    'cvec__max_features': [6000, 7000],\n",
    "    'cvec__min_df':[3, 4],\n",
    "    'cvec__max_df':[.975],\n",
    "    'cvec__ngram_range': [(1,2), (2,2)],\n",
    "    'cvec__stop_words': [None, 'english']\n",
    "}"
   ]
  },
  {
   "cell_type": "code",
   "execution_count": 58,
   "id": "4bb87727",
   "metadata": {},
   "outputs": [],
   "source": [
    "# model params\n",
    "mod_cvec_xgb = {'xgb__n_estimators': [100, 200],\n",
    "             'xgb__learning_rate': [0.1, 0.2],\n",
    "}"
   ]
  },
  {
   "cell_type": "code",
   "execution_count": 59,
   "id": "270f785b",
   "metadata": {},
   "outputs": [
    {
     "name": "stdout",
     "output_type": "stream",
     "text": [
      "Fitting 5 folds for each of 64 candidates, totalling 320 fits\n",
      "[06:51:40] WARNING: C:/Users/Administrator/workspace/xgboost-win64_release_1.5.1/src/learner.cc:1115: Starting in XGBoost 1.3.0, the default evaluation metric used with the objective 'binary:logistic' was changed from 'error' to 'logloss'. Explicitly set eval_metric if you'd like to restore the old behavior.\n",
      "============= Best model parameters ===============\n"
     ]
    },
    {
     "data": {
      "text/plain": [
       "{'cvec__max_df': 0.975,\n",
       " 'cvec__max_features': 6000,\n",
       " 'cvec__min_df': 3,\n",
       " 'cvec__ngram_range': (1, 2),\n",
       " 'cvec__stop_words': None,\n",
       " 'xgb__learning_rate': 0.2,\n",
       " 'xgb__n_estimators': 200}"
      ]
     },
     "metadata": {},
     "output_type": "display_data"
    },
    {
     "name": "stdout",
     "output_type": "stream",
     "text": [
      "=================== METRICS =======================\n"
     ]
    },
    {
     "data": {
      "text/plain": [
       "{'model': 'xgb',\n",
       " 'train_auc': 0.9972,\n",
       " 'test_auc': 0.9394,\n",
       " 'accuracy': 0.8678,\n",
       " 'specificity': 0.8481}"
      ]
     },
     "metadata": {},
     "output_type": "display_data"
    },
    {
     "name": "stdout",
     "output_type": "stream",
     "text": [
      "True Negatives: 2636\n",
      "False Positives: 472\n",
      "False Negatives: 351\n",
      "True Positives: 2767\n"
     ]
    },
    {
     "data": {
      "text/plain": [
       "array([[2636,  472],\n",
       "       [ 351, 2767]], dtype=int64)"
      ]
     },
     "metadata": {},
     "output_type": "display_data"
    },
    {
     "name": "stdout",
     "output_type": "stream",
     "text": [
      "Wall time: 1h 15min 21s\n"
     ]
    }
   ],
   "source": [
    "%%time\n",
    "xgb_cvec = run_model('cvec', 'xgb', trans_params = trans_cvec_xgb, mod_params = mod_cvec_xgb, grid_search = True)"
   ]
  },
  {
   "cell_type": "markdown",
   "id": "e23921b0",
   "metadata": {},
   "source": [
    "### XGBoost Classifier with TF-IDF Vectorizer"
   ]
  },
  {
   "cell_type": "code",
   "execution_count": 60,
   "id": "e7fe9442",
   "metadata": {},
   "outputs": [],
   "source": [
    "# vectorizer params\n",
    "trans_tvec_xgb = {\n",
    "    'tvec__max_features': [6000, 7000],\n",
    "    'tvec__min_df':[3, 4],\n",
    "    'tvec__max_df':[.975],\n",
    "    'tvec__ngram_range': [(1,2), (2,2)],\n",
    "    'tvec__stop_words': [None, 'english']\n",
    "}"
   ]
  },
  {
   "cell_type": "code",
   "execution_count": 61,
   "id": "da5fd16e",
   "metadata": {},
   "outputs": [],
   "source": [
    "# model params\n",
    "mod_tvec_xgb = {'xgb__n_estimators': [100, 200],\n",
    "             'xgb__learning_rate': [0.1, 0.2],\n",
    "}"
   ]
  },
  {
   "cell_type": "code",
   "execution_count": 62,
   "id": "6a755295",
   "metadata": {},
   "outputs": [
    {
     "name": "stdout",
     "output_type": "stream",
     "text": [
      "Fitting 5 folds for each of 64 candidates, totalling 320 fits\n",
      "[10:47:28] WARNING: C:/Users/Administrator/workspace/xgboost-win64_release_1.5.1/src/learner.cc:1115: Starting in XGBoost 1.3.0, the default evaluation metric used with the objective 'binary:logistic' was changed from 'error' to 'logloss'. Explicitly set eval_metric if you'd like to restore the old behavior.\n",
      "============= Best model parameters ===============\n"
     ]
    },
    {
     "data": {
      "text/plain": [
       "{'tvec__max_df': 0.975,\n",
       " 'tvec__max_features': 7000,\n",
       " 'tvec__min_df': 3,\n",
       " 'tvec__ngram_range': (1, 2),\n",
       " 'tvec__stop_words': None,\n",
       " 'xgb__learning_rate': 0.2,\n",
       " 'xgb__n_estimators': 200}"
      ]
     },
     "metadata": {},
     "output_type": "display_data"
    },
    {
     "name": "stdout",
     "output_type": "stream",
     "text": [
      "=================== METRICS =======================\n"
     ]
    },
    {
     "data": {
      "text/plain": [
       "{'model': 'xgb',\n",
       " 'train_auc': 0.9988,\n",
       " 'test_auc': 0.9397,\n",
       " 'accuracy': 0.8648,\n",
       " 'specificity': 0.8481}"
      ]
     },
     "metadata": {},
     "output_type": "display_data"
    },
    {
     "name": "stdout",
     "output_type": "stream",
     "text": [
      "True Negatives: 2636\n",
      "False Positives: 472\n",
      "False Negatives: 370\n",
      "True Positives: 2748\n"
     ]
    },
    {
     "data": {
      "text/plain": [
       "array([[2636,  472],\n",
       "       [ 370, 2748]], dtype=int64)"
      ]
     },
     "metadata": {},
     "output_type": "display_data"
    },
    {
     "name": "stdout",
     "output_type": "stream",
     "text": [
      "Wall time: 3h 57min 42s\n"
     ]
    }
   ],
   "source": [
    "%%time\n",
    "xgb_tvec = run_model('tvec', 'xgb', trans_params = trans_tvec_xgb, mod_params = mod_tvec_xgb, grid_search = True)"
   ]
  },
  {
   "cell_type": "markdown",
   "id": "725e0944",
   "metadata": {},
   "source": [
    "## Decision Tree Classifier"
   ]
  },
  {
   "cell_type": "markdown",
   "id": "56ef3888",
   "metadata": {},
   "source": [
    "### Decision Tree Classifier with Count Vectorizer"
   ]
  },
  {
   "cell_type": "code",
   "execution_count": 63,
   "id": "7ea64075",
   "metadata": {},
   "outputs": [],
   "source": [
    "# vectorizer params\n",
    "trans_cvec_dt = {\n",
    "    'cvec__max_features': [8000, 9000],\n",
    "    'cvec__min_df':[3, 4],\n",
    "    'cvec__max_df':[.9, .95],\n",
    "    'cvec__ngram_range': [(1,2), (2,2)],\n",
    "    'cvec__stop_words': [None, 'english']\n",
    "}"
   ]
  },
  {
   "cell_type": "code",
   "execution_count": 64,
   "id": "07666254",
   "metadata": {},
   "outputs": [],
   "source": [
    "# model params\n",
    "mod_cvec_dt = {'dt__max_depth': [5],\n",
    "            'dt__min_samples_split': [2, 5],\n",
    "            'dt__min_samples_leaf': [1, 2],\n",
    "            'dt__class_weight' : ['balanced']    \n",
    "}"
   ]
  },
  {
   "cell_type": "code",
   "execution_count": 65,
   "id": "e54a350a",
   "metadata": {},
   "outputs": [
    {
     "name": "stdout",
     "output_type": "stream",
     "text": [
      "Fitting 5 folds for each of 128 candidates, totalling 640 fits\n",
      "============= Best model parameters ===============\n"
     ]
    },
    {
     "data": {
      "text/plain": [
       "{'cvec__max_df': 0.9,\n",
       " 'cvec__max_features': 9000,\n",
       " 'cvec__min_df': 3,\n",
       " 'cvec__ngram_range': (1, 2),\n",
       " 'cvec__stop_words': 'english',\n",
       " 'dt__class_weight': 'balanced',\n",
       " 'dt__max_depth': 5,\n",
       " 'dt__min_samples_leaf': 2,\n",
       " 'dt__min_samples_split': 2}"
      ]
     },
     "metadata": {},
     "output_type": "display_data"
    },
    {
     "name": "stdout",
     "output_type": "stream",
     "text": [
      "=================== METRICS =======================\n"
     ]
    },
    {
     "data": {
      "text/plain": [
       "{'model': 'dt',\n",
       " 'train_auc': 0.7451,\n",
       " 'test_auc': 0.7315,\n",
       " 'accuracy': 0.6907,\n",
       " 'specificity': 0.4875}"
      ]
     },
     "metadata": {},
     "output_type": "display_data"
    },
    {
     "name": "stdout",
     "output_type": "stream",
     "text": [
      "True Negatives: 1515\n",
      "False Positives: 1593\n",
      "False Negatives: 333\n",
      "True Positives: 2785\n"
     ]
    },
    {
     "data": {
      "text/plain": [
       "array([[1515, 1593],\n",
       "       [ 333, 2785]], dtype=int64)"
      ]
     },
     "metadata": {},
     "output_type": "display_data"
    },
    {
     "name": "stdout",
     "output_type": "stream",
     "text": [
      "Wall time: 43min 34s\n"
     ]
    }
   ],
   "source": [
    "%%time\n",
    "dt_cvec = run_model('cvec', 'dt', trans_params = trans_cvec_dt, mod_params = mod_cvec_dt, grid_search = True)"
   ]
  },
  {
   "cell_type": "markdown",
   "id": "6d36f8f1",
   "metadata": {},
   "source": [
    "### Decision Tree Classifier with TF-IDF Vectorizer"
   ]
  },
  {
   "cell_type": "code",
   "execution_count": 66,
   "id": "d30751b7",
   "metadata": {},
   "outputs": [],
   "source": [
    "# vectorizer params\n",
    "trans_tvec_dt = {\n",
    "    'tvec__max_features': [8000, 9000],\n",
    "    'tvec__min_df':[3, 4],\n",
    "    'tvec__max_df':[.9, .95],\n",
    "    'tvec__ngram_range': [(1,2), (2,2)],\n",
    "    'tvec__stop_words': [None, 'english']\n",
    "}"
   ]
  },
  {
   "cell_type": "code",
   "execution_count": 67,
   "id": "98f7ed77",
   "metadata": {},
   "outputs": [],
   "source": [
    "# model params\n",
    "mod_tvec_dt = {'dt__max_depth': [5],\n",
    "            'dt__min_samples_split': [2, 5],\n",
    "            'dt__min_samples_leaf': [1, 2],\n",
    "            'dt__class_weight' : ['balanced']    \n",
    "}"
   ]
  },
  {
   "cell_type": "code",
   "execution_count": 68,
   "id": "15d3a6c7",
   "metadata": {},
   "outputs": [
    {
     "name": "stdout",
     "output_type": "stream",
     "text": [
      "Fitting 5 folds for each of 128 candidates, totalling 640 fits\n",
      "============= Best model parameters ===============\n"
     ]
    },
    {
     "data": {
      "text/plain": [
       "{'dt__class_weight': 'balanced',\n",
       " 'dt__max_depth': 5,\n",
       " 'dt__min_samples_leaf': 2,\n",
       " 'dt__min_samples_split': 2,\n",
       " 'tvec__max_df': 0.9,\n",
       " 'tvec__max_features': 8000,\n",
       " 'tvec__min_df': 3,\n",
       " 'tvec__ngram_range': (1, 2),\n",
       " 'tvec__stop_words': 'english'}"
      ]
     },
     "metadata": {},
     "output_type": "display_data"
    },
    {
     "name": "stdout",
     "output_type": "stream",
     "text": [
      "=================== METRICS =======================\n"
     ]
    },
    {
     "data": {
      "text/plain": [
       "{'model': 'dt',\n",
       " 'train_auc': 0.7472,\n",
       " 'test_auc': 0.7297,\n",
       " 'accuracy': 0.6865,\n",
       " 'specificity': 0.4701}"
      ]
     },
     "metadata": {},
     "output_type": "display_data"
    },
    {
     "name": "stdout",
     "output_type": "stream",
     "text": [
      "True Negatives: 1461\n",
      "False Positives: 1647\n",
      "False Negatives: 305\n",
      "True Positives: 2813\n"
     ]
    },
    {
     "data": {
      "text/plain": [
       "array([[1461, 1647],\n",
       "       [ 305, 2813]], dtype=int64)"
      ]
     },
     "metadata": {},
     "output_type": "display_data"
    },
    {
     "name": "stdout",
     "output_type": "stream",
     "text": [
      "Wall time: 54min 10s\n"
     ]
    }
   ],
   "source": [
    "%%time\n",
    "dt_tvec = run_model('tvec', 'dt', trans_params = trans_tvec_dt, mod_params = mod_tvec_dt, grid_search = True)"
   ]
  },
  {
   "cell_type": "markdown",
   "id": "d8f969ec",
   "metadata": {},
   "source": [
    "## Extra Trees Classifier"
   ]
  },
  {
   "cell_type": "markdown",
   "id": "76bb0d91",
   "metadata": {},
   "source": [
    "### Extra Trees Classifier with Count Vectorizer"
   ]
  },
  {
   "cell_type": "code",
   "execution_count": 69,
   "id": "87800c99",
   "metadata": {},
   "outputs": [],
   "source": [
    "# vectorizer params\n",
    "trans_cvec_et = {\n",
    "    'cvec__max_features': [8000, 9000],\n",
    "    'cvec__min_df':[3, 4],\n",
    "    'cvec__max_df':[.9, .95],\n",
    "    'cvec__ngram_range': [(1,2), (2,2)],\n",
    "    'cvec__stop_words': [None, 'english']\n",
    "}"
   ]
  },
  {
   "cell_type": "code",
   "execution_count": 70,
   "id": "660fbc29",
   "metadata": {},
   "outputs": [],
   "source": [
    "# model params\n",
    "mod_cvec_et = {'et__n_estimators': [100, 150],\n",
    "            'et__max_depth': [None, 10],\n",
    "            'et__min_samples_leaf': [1, 2]\n",
    "}"
   ]
  },
  {
   "cell_type": "code",
   "execution_count": 71,
   "id": "555e170b",
   "metadata": {},
   "outputs": [
    {
     "name": "stdout",
     "output_type": "stream",
     "text": [
      "Fitting 5 folds for each of 256 candidates, totalling 1280 fits\n",
      "============= Best model parameters ===============\n"
     ]
    },
    {
     "data": {
      "text/plain": [
       "{'cvec__max_df': 0.95,\n",
       " 'cvec__max_features': 9000,\n",
       " 'cvec__min_df': 3,\n",
       " 'cvec__ngram_range': (1, 2),\n",
       " 'cvec__stop_words': None,\n",
       " 'et__max_depth': None,\n",
       " 'et__min_samples_leaf': 2,\n",
       " 'et__n_estimators': 150}"
      ]
     },
     "metadata": {},
     "output_type": "display_data"
    },
    {
     "name": "stdout",
     "output_type": "stream",
     "text": [
      "=================== METRICS =======================\n"
     ]
    },
    {
     "data": {
      "text/plain": [
       "{'model': 'et',\n",
       " 'train_auc': 1.0,\n",
       " 'test_auc': 0.9392,\n",
       " 'accuracy': 0.8704,\n",
       " 'specificity': 0.8604}"
      ]
     },
     "metadata": {},
     "output_type": "display_data"
    },
    {
     "name": "stdout",
     "output_type": "stream",
     "text": [
      "True Negatives: 2674\n",
      "False Positives: 434\n",
      "False Negatives: 373\n",
      "True Positives: 2745\n"
     ]
    },
    {
     "data": {
      "text/plain": [
       "array([[2674,  434],\n",
       "       [ 373, 2745]], dtype=int64)"
      ]
     },
     "metadata": {},
     "output_type": "display_data"
    },
    {
     "name": "stdout",
     "output_type": "stream",
     "text": [
      "Wall time: 5h 18min 30s\n"
     ]
    }
   ],
   "source": [
    "%%time\n",
    "et_cvec = run_model('cvec', 'et', trans_params = trans_cvec_et, mod_params = mod_cvec_et, grid_search = True)"
   ]
  },
  {
   "cell_type": "markdown",
   "id": "6bd5b5b6",
   "metadata": {},
   "source": [
    "### Extra Trees Classifier with TF-IDF Vectorizer"
   ]
  },
  {
   "cell_type": "code",
   "execution_count": 72,
   "id": "337bf1e2",
   "metadata": {},
   "outputs": [],
   "source": [
    "# vectorizer params\n",
    "trans_tvec_et = {\n",
    "    'tvec__max_features': [8000, 9000],\n",
    "    'tvec__min_df':[3, 4],\n",
    "    'tvec__max_df':[.975],\n",
    "    'tvec__ngram_range': [(1,2), (2,2)],\n",
    "    'tvec__stop_words': [None, 'english']\n",
    "}"
   ]
  },
  {
   "cell_type": "code",
   "execution_count": 73,
   "id": "61fe8730",
   "metadata": {},
   "outputs": [],
   "source": [
    "# model params\n",
    "mod_tvec_et = {'et__n_estimators': [100, 150],\n",
    "            'et__max_depth': [None, 10],\n",
    "            'et__min_samples_leaf': [1, 2]\n",
    "}"
   ]
  },
  {
   "cell_type": "code",
   "execution_count": 74,
   "id": "53f13627",
   "metadata": {},
   "outputs": [
    {
     "name": "stdout",
     "output_type": "stream",
     "text": [
      "Fitting 5 folds for each of 128 candidates, totalling 640 fits\n",
      "============= Best model parameters ===============\n"
     ]
    },
    {
     "data": {
      "text/plain": [
       "{'et__max_depth': None,\n",
       " 'et__min_samples_leaf': 1,\n",
       " 'et__n_estimators': 150,\n",
       " 'tvec__max_df': 0.975,\n",
       " 'tvec__max_features': 9000,\n",
       " 'tvec__min_df': 4,\n",
       " 'tvec__ngram_range': (1, 2),\n",
       " 'tvec__stop_words': None}"
      ]
     },
     "metadata": {},
     "output_type": "display_data"
    },
    {
     "name": "stdout",
     "output_type": "stream",
     "text": [
      "=================== METRICS =======================\n"
     ]
    },
    {
     "data": {
      "text/plain": [
       "{'model': 'et',\n",
       " 'train_auc': 1.0,\n",
       " 'test_auc': 0.9373,\n",
       " 'accuracy': 0.8673,\n",
       " 'specificity': 0.8745}"
      ]
     },
     "metadata": {},
     "output_type": "display_data"
    },
    {
     "name": "stdout",
     "output_type": "stream",
     "text": [
      "True Negatives: 2718\n",
      "False Positives: 390\n",
      "False Negatives: 436\n",
      "True Positives: 2682\n"
     ]
    },
    {
     "data": {
      "text/plain": [
       "array([[2718,  390],\n",
       "       [ 436, 2682]], dtype=int64)"
      ]
     },
     "metadata": {},
     "output_type": "display_data"
    },
    {
     "name": "stdout",
     "output_type": "stream",
     "text": [
      "Wall time: 2h 34min 47s\n"
     ]
    }
   ],
   "source": [
    "%%time\n",
    "et_tvec = run_model('tvec', 'et', trans_params = trans_tvec_et, mod_params = mod_tvec_et, grid_search = True)"
   ]
  },
  {
   "cell_type": "markdown",
   "id": "af7cb252",
   "metadata": {},
   "source": [
    "## Random Forest Classifier"
   ]
  },
  {
   "cell_type": "markdown",
   "id": "dbd55a10",
   "metadata": {},
   "source": [
    "### Random Forest Classifier with Count Vectorizer"
   ]
  },
  {
   "cell_type": "code",
   "execution_count": 75,
   "id": "ce70abdd",
   "metadata": {},
   "outputs": [],
   "source": [
    "# vectorizer params\n",
    "trans_cvec_rf = {\n",
    "    'cvec__max_features': [8000, 9000],\n",
    "    'cvec__min_df':[3, 4],\n",
    "    'cvec__max_df':[.975],\n",
    "    'cvec__ngram_range': [(1,2), (2,2)],\n",
    "    'cvec__stop_words': [None, 'english']\n",
    "}"
   ]
  },
  {
   "cell_type": "code",
   "execution_count": 76,
   "id": "2d4ecbd8",
   "metadata": {},
   "outputs": [],
   "source": [
    "# model params\n",
    "mod_cvec_rf = {'rf__n_estimators': [100, 150],\n",
    "             'rf__max_depth': [None, 10],\n",
    "             'rf__min_samples_leaf': [1, 2]\n",
    "}"
   ]
  },
  {
   "cell_type": "code",
   "execution_count": 77,
   "id": "c1eeb344",
   "metadata": {},
   "outputs": [
    {
     "name": "stdout",
     "output_type": "stream",
     "text": [
      "Fitting 5 folds for each of 128 candidates, totalling 640 fits\n",
      "============= Best model parameters ===============\n"
     ]
    },
    {
     "data": {
      "text/plain": [
       "{'cvec__max_df': 0.975,\n",
       " 'cvec__max_features': 8000,\n",
       " 'cvec__min_df': 3,\n",
       " 'cvec__ngram_range': (1, 2),\n",
       " 'cvec__stop_words': None,\n",
       " 'rf__max_depth': None,\n",
       " 'rf__min_samples_leaf': 1,\n",
       " 'rf__n_estimators': 150}"
      ]
     },
     "metadata": {},
     "output_type": "display_data"
    },
    {
     "name": "stdout",
     "output_type": "stream",
     "text": [
      "=================== METRICS =======================\n"
     ]
    },
    {
     "data": {
      "text/plain": [
       "{'model': 'rf',\n",
       " 'train_auc': 1.0,\n",
       " 'test_auc': 0.9246,\n",
       " 'accuracy': 0.8487,\n",
       " 'specificity': 0.8388}"
      ]
     },
     "metadata": {},
     "output_type": "display_data"
    },
    {
     "name": "stdout",
     "output_type": "stream",
     "text": [
      "True Negatives: 2607\n",
      "False Positives: 501\n",
      "False Negatives: 441\n",
      "True Positives: 2677\n"
     ]
    },
    {
     "data": {
      "text/plain": [
       "array([[2607,  501],\n",
       "       [ 441, 2677]], dtype=int64)"
      ]
     },
     "metadata": {},
     "output_type": "display_data"
    },
    {
     "name": "stdout",
     "output_type": "stream",
     "text": [
      "Wall time: 2h 21min 57s\n"
     ]
    }
   ],
   "source": [
    "%%time\n",
    "rf_cvec = run_model('cvec', 'rf', trans_params = trans_cvec_rf, mod_params = mod_cvec_rf, grid_search = True)"
   ]
  },
  {
   "cell_type": "markdown",
   "id": "368d0c7e",
   "metadata": {},
   "source": [
    "### Random Forest Classifier with TF-IDF Vectorizer"
   ]
  },
  {
   "cell_type": "code",
   "execution_count": 78,
   "id": "852c1dc7",
   "metadata": {},
   "outputs": [],
   "source": [
    "# vectorizer params\n",
    "trans_tvec_rf = {\n",
    "    'tvec__max_features': [8000, 9000],\n",
    "    'tvec__min_df':[5],\n",
    "    'tvec__max_df':[.975],\n",
    "    'tvec__ngram_range': [(1,2), (2,2)],\n",
    "    'tvec__stop_words': [None, 'english']\n",
    "}"
   ]
  },
  {
   "cell_type": "code",
   "execution_count": 79,
   "id": "61adcf4e",
   "metadata": {},
   "outputs": [],
   "source": [
    "# model params\n",
    "mod_tvec_rf = {'rf__n_estimators': [100, 150],\n",
    "             'rf__max_depth': [None, 10],\n",
    "             'rf__min_samples_leaf': [1, 2]\n",
    "}"
   ]
  },
  {
   "cell_type": "code",
   "execution_count": 80,
   "id": "78ea6fd7",
   "metadata": {},
   "outputs": [
    {
     "name": "stdout",
     "output_type": "stream",
     "text": [
      "Fitting 5 folds for each of 64 candidates, totalling 320 fits\n",
      "============= Best model parameters ===============\n"
     ]
    },
    {
     "data": {
      "text/plain": [
       "{'rf__max_depth': None,\n",
       " 'rf__min_samples_leaf': 1,\n",
       " 'rf__n_estimators': 150,\n",
       " 'tvec__max_df': 0.975,\n",
       " 'tvec__max_features': 8000,\n",
       " 'tvec__min_df': 5,\n",
       " 'tvec__ngram_range': (1, 2),\n",
       " 'tvec__stop_words': None}"
      ]
     },
     "metadata": {},
     "output_type": "display_data"
    },
    {
     "name": "stdout",
     "output_type": "stream",
     "text": [
      "=================== METRICS =======================\n"
     ]
    },
    {
     "data": {
      "text/plain": [
       "{'model': 'rf',\n",
       " 'train_auc': 1.0,\n",
       " 'test_auc': 0.9273,\n",
       " 'accuracy': 0.8532,\n",
       " 'specificity': 0.8571}"
      ]
     },
     "metadata": {},
     "output_type": "display_data"
    },
    {
     "name": "stdout",
     "output_type": "stream",
     "text": [
      "True Negatives: 2664\n",
      "False Positives: 444\n",
      "False Negatives: 470\n",
      "True Positives: 2648\n"
     ]
    },
    {
     "data": {
      "text/plain": [
       "array([[2664,  444],\n",
       "       [ 470, 2648]], dtype=int64)"
      ]
     },
     "metadata": {},
     "output_type": "display_data"
    },
    {
     "name": "stdout",
     "output_type": "stream",
     "text": [
      "Wall time: 58min 58s\n"
     ]
    }
   ],
   "source": [
    "%%time\n",
    "rf_tvec = run_model('tvec', 'rf', trans_params = trans_tvec_rf, mod_params = mod_tvec_rf, grid_search = True)"
   ]
  },
  {
   "cell_type": "markdown",
   "id": "2c29e4f3",
   "metadata": {},
   "source": [
    "## Model Evaluation\n",
    "\n",
    "Below shows the main metrics that we are looking at for the performance of our models."
   ]
  },
  {
   "cell_type": "code",
   "execution_count": 102,
   "id": "32b2d4e9",
   "metadata": {},
   "outputs": [
    {
     "data": {
      "text/html": [
       "<div>\n",
       "<style scoped>\n",
       "    .dataframe tbody tr th:only-of-type {\n",
       "        vertical-align: middle;\n",
       "    }\n",
       "\n",
       "    .dataframe tbody tr th {\n",
       "        vertical-align: top;\n",
       "    }\n",
       "\n",
       "    .dataframe thead th {\n",
       "        text-align: right;\n",
       "    }\n",
       "</style>\n",
       "<table border=\"1\" class=\"dataframe\">\n",
       "  <thead>\n",
       "    <tr style=\"text-align: right;\">\n",
       "      <th></th>\n",
       "      <th>model</th>\n",
       "      <th>train_auc</th>\n",
       "      <th>test_auc</th>\n",
       "      <th>accuracy</th>\n",
       "      <th>specificity</th>\n",
       "      <th>vectorizer</th>\n",
       "    </tr>\n",
       "  </thead>\n",
       "  <tbody>\n",
       "    <tr>\n",
       "      <th>0</th>\n",
       "      <td>lr</td>\n",
       "      <td>1.0000</td>\n",
       "      <td>0.9537</td>\n",
       "      <td>0.8908</td>\n",
       "      <td>0.8835</td>\n",
       "      <td>cvec</td>\n",
       "    </tr>\n",
       "    <tr>\n",
       "      <th>1</th>\n",
       "      <td>lr</td>\n",
       "      <td>1.0000</td>\n",
       "      <td>0.9657</td>\n",
       "      <td>0.9054</td>\n",
       "      <td>0.8964</td>\n",
       "      <td>tvec</td>\n",
       "    </tr>\n",
       "    <tr>\n",
       "      <th>2</th>\n",
       "      <td>nb</td>\n",
       "      <td>0.9936</td>\n",
       "      <td>0.9408</td>\n",
       "      <td>0.8824</td>\n",
       "      <td>0.8867</td>\n",
       "      <td>cvec</td>\n",
       "    </tr>\n",
       "    <tr>\n",
       "      <th>3</th>\n",
       "      <td>nb</td>\n",
       "      <td>0.9933</td>\n",
       "      <td>0.9505</td>\n",
       "      <td>0.8807</td>\n",
       "      <td>0.8887</td>\n",
       "      <td>tvec</td>\n",
       "    </tr>\n",
       "    <tr>\n",
       "      <th>4</th>\n",
       "      <td>knn</td>\n",
       "      <td>1.0000</td>\n",
       "      <td>0.6850</td>\n",
       "      <td>0.6303</td>\n",
       "      <td>0.4755</td>\n",
       "      <td>cvec</td>\n",
       "    </tr>\n",
       "    <tr>\n",
       "      <th>5</th>\n",
       "      <td>knn</td>\n",
       "      <td>1.0000</td>\n",
       "      <td>0.8286</td>\n",
       "      <td>0.7512</td>\n",
       "      <td>0.6866</td>\n",
       "      <td>tvec</td>\n",
       "    </tr>\n",
       "    <tr>\n",
       "      <th>6</th>\n",
       "      <td>ada</td>\n",
       "      <td>0.9192</td>\n",
       "      <td>0.9129</td>\n",
       "      <td>0.8350</td>\n",
       "      <td>0.8137</td>\n",
       "      <td>cvec</td>\n",
       "    </tr>\n",
       "    <tr>\n",
       "      <th>7</th>\n",
       "      <td>ada</td>\n",
       "      <td>0.9260</td>\n",
       "      <td>0.9121</td>\n",
       "      <td>0.8304</td>\n",
       "      <td>0.8076</td>\n",
       "      <td>tvec</td>\n",
       "    </tr>\n",
       "    <tr>\n",
       "      <th>8</th>\n",
       "      <td>gb</td>\n",
       "      <td>0.9722</td>\n",
       "      <td>0.9356</td>\n",
       "      <td>0.8628</td>\n",
       "      <td>0.8362</td>\n",
       "      <td>cvec</td>\n",
       "    </tr>\n",
       "    <tr>\n",
       "      <th>9</th>\n",
       "      <td>gb</td>\n",
       "      <td>0.9784</td>\n",
       "      <td>0.9338</td>\n",
       "      <td>0.8577</td>\n",
       "      <td>0.8308</td>\n",
       "      <td>tvec</td>\n",
       "    </tr>\n",
       "    <tr>\n",
       "      <th>10</th>\n",
       "      <td>xgb</td>\n",
       "      <td>0.9972</td>\n",
       "      <td>0.9394</td>\n",
       "      <td>0.8678</td>\n",
       "      <td>0.8481</td>\n",
       "      <td>cvec</td>\n",
       "    </tr>\n",
       "    <tr>\n",
       "      <th>11</th>\n",
       "      <td>xgb</td>\n",
       "      <td>0.9988</td>\n",
       "      <td>0.9397</td>\n",
       "      <td>0.8648</td>\n",
       "      <td>0.8481</td>\n",
       "      <td>tvec</td>\n",
       "    </tr>\n",
       "    <tr>\n",
       "      <th>12</th>\n",
       "      <td>dt</td>\n",
       "      <td>0.7451</td>\n",
       "      <td>0.7315</td>\n",
       "      <td>0.6907</td>\n",
       "      <td>0.4875</td>\n",
       "      <td>cvec</td>\n",
       "    </tr>\n",
       "    <tr>\n",
       "      <th>13</th>\n",
       "      <td>dt</td>\n",
       "      <td>0.7472</td>\n",
       "      <td>0.7297</td>\n",
       "      <td>0.6865</td>\n",
       "      <td>0.4701</td>\n",
       "      <td>tvec</td>\n",
       "    </tr>\n",
       "    <tr>\n",
       "      <th>14</th>\n",
       "      <td>et</td>\n",
       "      <td>1.0000</td>\n",
       "      <td>0.9392</td>\n",
       "      <td>0.8704</td>\n",
       "      <td>0.8604</td>\n",
       "      <td>cvec</td>\n",
       "    </tr>\n",
       "    <tr>\n",
       "      <th>15</th>\n",
       "      <td>et</td>\n",
       "      <td>1.0000</td>\n",
       "      <td>0.9373</td>\n",
       "      <td>0.8673</td>\n",
       "      <td>0.8745</td>\n",
       "      <td>tvec</td>\n",
       "    </tr>\n",
       "    <tr>\n",
       "      <th>16</th>\n",
       "      <td>rf</td>\n",
       "      <td>1.0000</td>\n",
       "      <td>0.9246</td>\n",
       "      <td>0.8487</td>\n",
       "      <td>0.8388</td>\n",
       "      <td>cvec</td>\n",
       "    </tr>\n",
       "    <tr>\n",
       "      <th>17</th>\n",
       "      <td>rf</td>\n",
       "      <td>1.0000</td>\n",
       "      <td>0.9273</td>\n",
       "      <td>0.8532</td>\n",
       "      <td>0.8571</td>\n",
       "      <td>tvec</td>\n",
       "    </tr>\n",
       "  </tbody>\n",
       "</table>\n",
       "</div>"
      ],
      "text/plain": [
       "   model  train_auc  test_auc  accuracy  specificity vectorizer\n",
       "0     lr     1.0000    0.9537    0.8908       0.8835       cvec\n",
       "1     lr     1.0000    0.9657    0.9054       0.8964       tvec\n",
       "2     nb     0.9936    0.9408    0.8824       0.8867       cvec\n",
       "3     nb     0.9933    0.9505    0.8807       0.8887       tvec\n",
       "4    knn     1.0000    0.6850    0.6303       0.4755       cvec\n",
       "5    knn     1.0000    0.8286    0.7512       0.6866       tvec\n",
       "6    ada     0.9192    0.9129    0.8350       0.8137       cvec\n",
       "7    ada     0.9260    0.9121    0.8304       0.8076       tvec\n",
       "8     gb     0.9722    0.9356    0.8628       0.8362       cvec\n",
       "9     gb     0.9784    0.9338    0.8577       0.8308       tvec\n",
       "10   xgb     0.9972    0.9394    0.8678       0.8481       cvec\n",
       "11   xgb     0.9988    0.9397    0.8648       0.8481       tvec\n",
       "12    dt     0.7451    0.7315    0.6907       0.4875       cvec\n",
       "13    dt     0.7472    0.7297    0.6865       0.4701       tvec\n",
       "14    et     1.0000    0.9392    0.8704       0.8604       cvec\n",
       "15    et     1.0000    0.9373    0.8673       0.8745       tvec\n",
       "16    rf     1.0000    0.9246    0.8487       0.8388       cvec\n",
       "17    rf     1.0000    0.9273    0.8532       0.8571       tvec"
      ]
     },
     "execution_count": 102,
     "metadata": {},
     "output_type": "execute_result"
    }
   ],
   "source": [
    "gs = pd.DataFrame(gs_list)\n",
    "\n",
    "vec_ls = []\n",
    "for x in gs.index:\n",
    "    if x % 2 == 0:\n",
    "        vec_ls.append('cvec')\n",
    "    else:\n",
    "        vec_ls.append('tvec')\n",
    "\n",
    "gs['vectorizer'] = vec_ls\n",
    "gs"
   ]
  },
  {
   "cell_type": "code",
   "execution_count": 103,
   "id": "49c55c03",
   "metadata": {},
   "outputs": [
    {
     "data": {
      "text/html": [
       "<div>\n",
       "<style scoped>\n",
       "    .dataframe tbody tr th:only-of-type {\n",
       "        vertical-align: middle;\n",
       "    }\n",
       "\n",
       "    .dataframe tbody tr th {\n",
       "        vertical-align: top;\n",
       "    }\n",
       "\n",
       "    .dataframe thead th {\n",
       "        text-align: right;\n",
       "    }\n",
       "</style>\n",
       "<table border=\"1\" class=\"dataframe\">\n",
       "  <thead>\n",
       "    <tr style=\"text-align: right;\">\n",
       "      <th></th>\n",
       "      <th>model</th>\n",
       "      <th>train_auc</th>\n",
       "      <th>test_auc</th>\n",
       "      <th>accuracy</th>\n",
       "      <th>specificity</th>\n",
       "      <th>vectorizer</th>\n",
       "    </tr>\n",
       "  </thead>\n",
       "  <tbody>\n",
       "    <tr>\n",
       "      <th>1</th>\n",
       "      <td>lr</td>\n",
       "      <td>1.0000</td>\n",
       "      <td>0.9657</td>\n",
       "      <td>0.9054</td>\n",
       "      <td>0.8964</td>\n",
       "      <td>tvec</td>\n",
       "    </tr>\n",
       "    <tr>\n",
       "      <th>0</th>\n",
       "      <td>lr</td>\n",
       "      <td>1.0000</td>\n",
       "      <td>0.9537</td>\n",
       "      <td>0.8908</td>\n",
       "      <td>0.8835</td>\n",
       "      <td>cvec</td>\n",
       "    </tr>\n",
       "    <tr>\n",
       "      <th>3</th>\n",
       "      <td>nb</td>\n",
       "      <td>0.9933</td>\n",
       "      <td>0.9505</td>\n",
       "      <td>0.8807</td>\n",
       "      <td>0.8887</td>\n",
       "      <td>tvec</td>\n",
       "    </tr>\n",
       "    <tr>\n",
       "      <th>2</th>\n",
       "      <td>nb</td>\n",
       "      <td>0.9936</td>\n",
       "      <td>0.9408</td>\n",
       "      <td>0.8824</td>\n",
       "      <td>0.8867</td>\n",
       "      <td>cvec</td>\n",
       "    </tr>\n",
       "    <tr>\n",
       "      <th>11</th>\n",
       "      <td>xgb</td>\n",
       "      <td>0.9988</td>\n",
       "      <td>0.9397</td>\n",
       "      <td>0.8648</td>\n",
       "      <td>0.8481</td>\n",
       "      <td>tvec</td>\n",
       "    </tr>\n",
       "    <tr>\n",
       "      <th>10</th>\n",
       "      <td>xgb</td>\n",
       "      <td>0.9972</td>\n",
       "      <td>0.9394</td>\n",
       "      <td>0.8678</td>\n",
       "      <td>0.8481</td>\n",
       "      <td>cvec</td>\n",
       "    </tr>\n",
       "    <tr>\n",
       "      <th>14</th>\n",
       "      <td>et</td>\n",
       "      <td>1.0000</td>\n",
       "      <td>0.9392</td>\n",
       "      <td>0.8704</td>\n",
       "      <td>0.8604</td>\n",
       "      <td>cvec</td>\n",
       "    </tr>\n",
       "    <tr>\n",
       "      <th>15</th>\n",
       "      <td>et</td>\n",
       "      <td>1.0000</td>\n",
       "      <td>0.9373</td>\n",
       "      <td>0.8673</td>\n",
       "      <td>0.8745</td>\n",
       "      <td>tvec</td>\n",
       "    </tr>\n",
       "    <tr>\n",
       "      <th>8</th>\n",
       "      <td>gb</td>\n",
       "      <td>0.9722</td>\n",
       "      <td>0.9356</td>\n",
       "      <td>0.8628</td>\n",
       "      <td>0.8362</td>\n",
       "      <td>cvec</td>\n",
       "    </tr>\n",
       "    <tr>\n",
       "      <th>9</th>\n",
       "      <td>gb</td>\n",
       "      <td>0.9784</td>\n",
       "      <td>0.9338</td>\n",
       "      <td>0.8577</td>\n",
       "      <td>0.8308</td>\n",
       "      <td>tvec</td>\n",
       "    </tr>\n",
       "    <tr>\n",
       "      <th>17</th>\n",
       "      <td>rf</td>\n",
       "      <td>1.0000</td>\n",
       "      <td>0.9273</td>\n",
       "      <td>0.8532</td>\n",
       "      <td>0.8571</td>\n",
       "      <td>tvec</td>\n",
       "    </tr>\n",
       "    <tr>\n",
       "      <th>16</th>\n",
       "      <td>rf</td>\n",
       "      <td>1.0000</td>\n",
       "      <td>0.9246</td>\n",
       "      <td>0.8487</td>\n",
       "      <td>0.8388</td>\n",
       "      <td>cvec</td>\n",
       "    </tr>\n",
       "    <tr>\n",
       "      <th>6</th>\n",
       "      <td>ada</td>\n",
       "      <td>0.9192</td>\n",
       "      <td>0.9129</td>\n",
       "      <td>0.8350</td>\n",
       "      <td>0.8137</td>\n",
       "      <td>cvec</td>\n",
       "    </tr>\n",
       "    <tr>\n",
       "      <th>7</th>\n",
       "      <td>ada</td>\n",
       "      <td>0.9260</td>\n",
       "      <td>0.9121</td>\n",
       "      <td>0.8304</td>\n",
       "      <td>0.8076</td>\n",
       "      <td>tvec</td>\n",
       "    </tr>\n",
       "    <tr>\n",
       "      <th>5</th>\n",
       "      <td>knn</td>\n",
       "      <td>1.0000</td>\n",
       "      <td>0.8286</td>\n",
       "      <td>0.7512</td>\n",
       "      <td>0.6866</td>\n",
       "      <td>tvec</td>\n",
       "    </tr>\n",
       "    <tr>\n",
       "      <th>12</th>\n",
       "      <td>dt</td>\n",
       "      <td>0.7451</td>\n",
       "      <td>0.7315</td>\n",
       "      <td>0.6907</td>\n",
       "      <td>0.4875</td>\n",
       "      <td>cvec</td>\n",
       "    </tr>\n",
       "    <tr>\n",
       "      <th>13</th>\n",
       "      <td>dt</td>\n",
       "      <td>0.7472</td>\n",
       "      <td>0.7297</td>\n",
       "      <td>0.6865</td>\n",
       "      <td>0.4701</td>\n",
       "      <td>tvec</td>\n",
       "    </tr>\n",
       "    <tr>\n",
       "      <th>4</th>\n",
       "      <td>knn</td>\n",
       "      <td>1.0000</td>\n",
       "      <td>0.6850</td>\n",
       "      <td>0.6303</td>\n",
       "      <td>0.4755</td>\n",
       "      <td>cvec</td>\n",
       "    </tr>\n",
       "  </tbody>\n",
       "</table>\n",
       "</div>"
      ],
      "text/plain": [
       "   model  train_auc  test_auc  accuracy  specificity vectorizer\n",
       "1     lr     1.0000    0.9657    0.9054       0.8964       tvec\n",
       "0     lr     1.0000    0.9537    0.8908       0.8835       cvec\n",
       "3     nb     0.9933    0.9505    0.8807       0.8887       tvec\n",
       "2     nb     0.9936    0.9408    0.8824       0.8867       cvec\n",
       "11   xgb     0.9988    0.9397    0.8648       0.8481       tvec\n",
       "10   xgb     0.9972    0.9394    0.8678       0.8481       cvec\n",
       "14    et     1.0000    0.9392    0.8704       0.8604       cvec\n",
       "15    et     1.0000    0.9373    0.8673       0.8745       tvec\n",
       "8     gb     0.9722    0.9356    0.8628       0.8362       cvec\n",
       "9     gb     0.9784    0.9338    0.8577       0.8308       tvec\n",
       "17    rf     1.0000    0.9273    0.8532       0.8571       tvec\n",
       "16    rf     1.0000    0.9246    0.8487       0.8388       cvec\n",
       "6    ada     0.9192    0.9129    0.8350       0.8137       cvec\n",
       "7    ada     0.9260    0.9121    0.8304       0.8076       tvec\n",
       "5    knn     1.0000    0.8286    0.7512       0.6866       tvec\n",
       "12    dt     0.7451    0.7315    0.6907       0.4875       cvec\n",
       "13    dt     0.7472    0.7297    0.6865       0.4701       tvec\n",
       "4    knn     1.0000    0.6850    0.6303       0.4755       cvec"
      ]
     },
     "execution_count": 103,
     "metadata": {},
     "output_type": "execute_result"
    }
   ],
   "source": [
    "# Sorting our models based on test ROC AUC scores\n",
    "gs.sort_values(by = 'test_auc', ascending = False)"
   ]
  },
  {
   "cell_type": "markdown",
   "id": "ccc18348",
   "metadata": {},
   "source": [
    "Looking at the above table, most models performed quite well, except for a few exceptions. Logistic Regression with TF-IDF vectorizer performed the best, with highest scores for all metrics. It also performed the best for ROC AUC score on our validation portion of our dataset. Its specificity scores means that 9 out of 10 negative reviews would be classified correctly, and we are satisfied with that. In addition, this model is not overfitted much. Overall, Logistic Regression models take first and second place, followed by Multinomial Naive Bayes models.\n",
    "\n",
    "For vectorizer, TF-IDF vectorizer generally performs better than count vectorizer. K-Nearest Neighbors and Decision Tree models performed poorly though, regardless of the transformer used."
   ]
  },
  {
   "cell_type": "markdown",
   "id": "4f8d8a3c",
   "metadata": {},
   "source": [
    "### ROC AUC Curve (Count Vectorizer)"
   ]
  },
  {
   "cell_type": "code",
   "execution_count": 83,
   "id": "359f5077",
   "metadata": {},
   "outputs": [],
   "source": [
    "def plot_roc(model_dict, plot_top=False):\n",
    "    fig, ax = plt.subplots(1, 1, figsize=(12,10))\n",
    "    axes = {}\n",
    "    for i, m in enumerate(model_dict.keys()):\n",
    "        axes[f'ax{i}'] = plot_roc_curve(m, X_test, y_test, ax=ax, name=model_dict[m])\n",
    "    if plot_top:\n",
    "        for i, a in enumerate(axes):\n",
    "            if i != 0:\n",
    "                axes[a].line_.set_color('lightgrey')\n",
    "    plt.plot([0, 1], [0, 1], color='black', lw=2, linestyle='--', label='Random Guess')\n",
    "    plt.title('ROC-AUC Curve Comparison', fontsize=22)\n",
    "    plt.xlabel('False Positive Rate', fontsize=12)\n",
    "    plt.ylabel('True Positive Rate', fontsize=12)\n",
    "    plt.legend(fontsize=12)"
   ]
  },
  {
   "cell_type": "code",
   "execution_count": 92,
   "id": "9ccb6a46",
   "metadata": {},
   "outputs": [],
   "source": [
    "# plotting ROC AUC curve for Count Vectorizer models\n",
    "model_dict_cvec = {\n",
    "    lr_cvec: 'LogisticRegression_cvec',\n",
    "    nb_cvec: 'MultinomialNB_cvec',\n",
    "    knn_cvec: 'KNearestNeighbor_cvec',\n",
    "    ada_cvec: 'AdaBoostClassifier_cvec',\n",
    "    gb_cvec: 'GradientBoostingClassifier_cvec',\n",
    "    xgb_cvec: 'XGBClassifier_cvec',\n",
    "    dt_cvec: 'DecisionTreeClassifier_cvec',\n",
    "    et_cvec: 'ExtraTreesClassifier_cvec',\n",
    "    rf_cvec: 'RandomForestClassifier_cvec'\n",
    "    }"
   ]
  },
  {
   "cell_type": "code",
   "execution_count": 93,
   "id": "f53924de",
   "metadata": {},
   "outputs": [
    {
     "data": {
      "image/png": "[encoded data removed]",
      "text/plain": [
       "<Figure size 864x720 with 1 Axes>"
      ]
     },
     "metadata": {
      "needs_background": "light"
     },
     "output_type": "display_data"
    }
   ],
   "source": [
    "plot_roc(model_dict_cvec)"
   ]
  },
  {
   "cell_type": "markdown",
   "id": "341dfd3f",
   "metadata": {},
   "source": [
    "### ROC AUC Curve (TF-IDF Vectorizer)"
   ]
  },
  {
   "cell_type": "code",
   "execution_count": 94,
   "id": "04954bf4",
   "metadata": {},
   "outputs": [],
   "source": [
    "# plotting ROC AUC curve for TF-IDF Vectorizer models\n",
    "model_dict_tvec = {\n",
    "    lr_tvec: 'LogisticRegression_tvec',\n",
    "    nb_tvec: 'MultinomialNB_tvec',\n",
    "    knn_tvec: 'KNearestNeighbor_tvec',\n",
    "    ada_tvec: 'AdaBoostClassifier_tvec',\n",
    "    gb_tvec: 'GradientBoostingClassifier_tvec',\n",
    "    xgb_tvec: 'XGBClassifier_tvec',\n",
    "    dt_tvec: 'DecisionTreeClassifier_tvec',\n",
    "    et_tvec: 'ExtraTreesClassifier_tvec',\n",
    "    rf_tvec: 'RandomForestClassifier_tvec'\n",
    "    }"
   ]
  },
  {
   "cell_type": "code",
   "execution_count": 95,
   "id": "415048ce",
   "metadata": {},
   "outputs": [
    {
     "data": {
      "image/png": "[encoded data removed]",
      "text/plain": [
       "<Figure size 864x720 with 1 Axes>"
      ]
     },
     "metadata": {
      "needs_background": "light"
     },
     "output_type": "display_data"
    }
   ],
   "source": [
    "plot_roc(model_dict_tvec)"
   ]
  },
  {
   "cell_type": "markdown",
   "id": "08da0d07",
   "metadata": {},
   "source": [
    "### Best Model\n",
    "\n",
    "The best model among all machine learning models tested in this notebook is **Logistic Regression with TF-IDF Vectorizer**."
   ]
  },
  {
   "cell_type": "markdown",
   "id": "376f6fd3",
   "metadata": {},
   "source": [
    "## Conclusion\n",
    "\n",
    "To conclude, our best performing machine learning model is the Logistic Regression with TF-IDF vectorizer. It is also our best performing model in the whole project (we were unable to tune our RNN model in time for comparison). It performed above expectations, with test ROC AUC score of 0.9657, accuracy score of 0.9054, and specificity score of 0.8964. All 3 of these scores outperformed all other models. We would recommend the use of this model on other balanced review datasets, such that after training, it would effectively classify sentiment polarities. Following that, reviews and comments from untapped data can be utilized for the improvement of products, or for product promotion.\n",
    "\n",
    "Future improvements to this project, other than tuning our RNN model, would be to consider using other deep learning models as well. These include models with word2vec embeddings, and pre-trained ones, like BERT."
   ]
  }
 ],
 "metadata": {
  "kernelspec": {
   "display_name": "Python 3 (ipykernel)",
   "language": "python",
   "name": "python3"
  },
  "language_info": {
   "codemirror_mode": {
    "name": "ipython",
    "version": 3
   },
   "file_extension": ".py",
   "mimetype": "text/x-python",
   "name": "python",
   "nbconvert_exporter": "python",
   "pygments_lexer": "ipython3",
   "version": "3.9.7"
  }
 },
 "nbformat": 4,
 "nbformat_minor": 5
}
